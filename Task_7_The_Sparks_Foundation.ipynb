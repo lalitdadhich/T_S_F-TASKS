{
  "nbformat": 4,
  "nbformat_minor": 0,
  "metadata": {
    "colab": {
      "name": "Task_7_The_Sparks_Foundation.ipynb",
      "provenance": [],
      "collapsed_sections": [],
      "toc_visible": true,
      "include_colab_link": true
    },
    "kernelspec": {
      "display_name": "Python 3",
      "name": "python3"
    },
    "language_info": {
      "name": "python"
    }
  },
  "cells": [
    {
      "cell_type": "markdown",
      "metadata": {
        "id": "view-in-github",
        "colab_type": "text"
      },
      "source": [
        "<a href=\"https://colab.research.google.com/github/lalitdadhich/T_S_F-TASKS/blob/main/Task_7_The_Sparks_Foundation.ipynb\" target=\"_parent\"><img src=\"https://colab.research.google.com/assets/colab-badge.svg\" alt=\"Open In Colab\"/></a>"
      ]
    },
    {
      "cell_type": "markdown",
      "metadata": {
        "id": "lPEu0QJL0CqV"
      },
      "source": [
        "# ***GRIP : The Sparks Foundations***\n",
        "\n",
        "---\n",
        "# ***Author : LALIT DADHICH***\n"
      ]
    },
    {
      "cell_type": "markdown",
      "metadata": {
        "id": "TQB-f0dx0WgM"
      },
      "source": [
        "#  Stock Market Prediction using \n",
        "# Numerical and Textual Analysis\n",
        "## (Level - Advanced)\n",
        "● Objective: Create a hybrid model for stock price/performance \n",
        "prediction using numerical analysis of historical stock prices, and \n",
        "sentimental analysis of news headlines   \n",
        "● Stock to analyze and predict - SENSEX (S&P BSE SENSEX)  \n",
        "● Download historical stock prices from finance.yahoo.com  \n",
        "● Download textual (news) data from https://bit.ly/36fFPI6  \n",
        "● Use either R or Python, or both for separate analysis and then \n",
        "combine the findings to create a hybrid model  \n",
        "● You are free to select a different stock to analyze and news dataset \n",
        "as well while not changing the objective of the task.  \n"
      ]
    },
    {
      "cell_type": "code",
      "metadata": {
        "colab": {
          "base_uri": "https://localhost:8080/"
        },
        "id": "HHGjCSYNz7yY",
        "outputId": "08a48f54-9e3c-463e-94b7-ec1ef9e50563"
      },
      "source": [
        "pip install yfinance --upgrade --no-cache-dir"
      ],
      "execution_count": 407,
      "outputs": [
        {
          "output_type": "stream",
          "text": [
            "Requirement already satisfied: yfinance in /usr/local/lib/python3.7/dist-packages (0.1.63)\n",
            "Requirement already satisfied: lxml>=4.5.1 in /usr/local/lib/python3.7/dist-packages (from yfinance) (4.6.3)\n",
            "Requirement already satisfied: numpy>=1.15 in /usr/local/lib/python3.7/dist-packages (from yfinance) (1.19.5)\n",
            "Requirement already satisfied: multitasking>=0.0.7 in /usr/local/lib/python3.7/dist-packages (from yfinance) (0.0.9)\n",
            "Requirement already satisfied: pandas>=0.24 in /usr/local/lib/python3.7/dist-packages (from yfinance) (1.1.5)\n",
            "Requirement already satisfied: requests>=2.20 in /usr/local/lib/python3.7/dist-packages (from yfinance) (2.23.0)\n",
            "Requirement already satisfied: pytz>=2017.2 in /usr/local/lib/python3.7/dist-packages (from pandas>=0.24->yfinance) (2018.9)\n",
            "Requirement already satisfied: python-dateutil>=2.7.3 in /usr/local/lib/python3.7/dist-packages (from pandas>=0.24->yfinance) (2.8.1)\n",
            "Requirement already satisfied: six>=1.5 in /usr/local/lib/python3.7/dist-packages (from python-dateutil>=2.7.3->pandas>=0.24->yfinance) (1.15.0)\n",
            "Requirement already satisfied: chardet<4,>=3.0.2 in /usr/local/lib/python3.7/dist-packages (from requests>=2.20->yfinance) (3.0.4)\n",
            "Requirement already satisfied: certifi>=2017.4.17 in /usr/local/lib/python3.7/dist-packages (from requests>=2.20->yfinance) (2021.5.30)\n",
            "Requirement already satisfied: urllib3!=1.25.0,!=1.25.1,<1.26,>=1.21.1 in /usr/local/lib/python3.7/dist-packages (from requests>=2.20->yfinance) (1.24.3)\n",
            "Requirement already satisfied: idna<3,>=2.5 in /usr/local/lib/python3.7/dist-packages (from requests>=2.20->yfinance) (2.10)\n"
          ],
          "name": "stdout"
        }
      ]
    },
    {
      "cell_type": "markdown",
      "metadata": {
        "id": "aUh_VEgE1wvy"
      },
      "source": [
        "### ***Importing Required Libraries***"
      ]
    },
    {
      "cell_type": "code",
      "metadata": {
        "id": "UWOvkbcH1p6R"
      },
      "source": [
        "import numpy as np\n",
        "import pandas as pd\n",
        "\n",
        "import matplotlib.pyplot as plt\n",
        "%matplotlib inline\n",
        "\n",
        "import altair as alt  #Altair is a declarative statistical visualization library for Python\n",
        "\n",
        "import statsmodels.api as sm \n",
        "\n",
        "from sklearn.model_selection import ShuffleSplit\n",
        "from sklearn.metrics import mean_absolute_error\n",
        "from sklearn.metrics import mean_squared_error\n",
        "from sklearn.metrics import r2_score\n",
        "from sklearn.multioutput import RegressorChain\n",
        "from sklearn.ensemble import RandomForestRegressor"
      ],
      "execution_count": 408,
      "outputs": []
    },
    {
      "cell_type": "code",
      "metadata": {
        "id": "P-Y__vlg17Em"
      },
      "source": [
        "import warnings\n",
        "warnings.filterwarnings('ignore')"
      ],
      "execution_count": 409,
      "outputs": []
    },
    {
      "cell_type": "code",
      "metadata": {
        "colab": {
          "base_uri": "https://localhost:8080/"
        },
        "id": "n96iUhKo2ACN",
        "outputId": "3d729741-c6fe-4518-cac7-f8c629ae7e57"
      },
      "source": [
        "import yfinance as yf\n",
        "bse_data = yf.download('^BSESN', start='2015-01-01', end='2021-07-10')\n",
        "unseenbse_data = yf.download('^BSESN', start='2021-07-09', end='2021-07-10')"
      ],
      "execution_count": 410,
      "outputs": [
        {
          "output_type": "stream",
          "text": [
            "[*********************100%***********************]  1 of 1 completed\n",
            "[*********************100%***********************]  1 of 1 completed\n"
          ],
          "name": "stdout"
        }
      ]
    },
    {
      "cell_type": "code",
      "metadata": {
        "colab": {
          "base_uri": "https://localhost:8080/"
        },
        "id": "DrGCj3vH2oHA",
        "outputId": "6f44536b-203d-4a3e-8b01-7021c5ff0c03"
      },
      "source": [
        "bse_data.columns"
      ],
      "execution_count": 411,
      "outputs": [
        {
          "output_type": "execute_result",
          "data": {
            "text/plain": [
              "Index(['Open', 'High', 'Low', 'Close', 'Adj Close', 'Volume'], dtype='object')"
            ]
          },
          "metadata": {
            "tags": []
          },
          "execution_count": 411
        }
      ]
    },
    {
      "cell_type": "code",
      "metadata": {
        "colab": {
          "base_uri": "https://localhost:8080/"
        },
        "id": "8p2bjAWf2s2O",
        "outputId": "cd36222e-cb9e-49e2-fd6e-539979121d77"
      },
      "source": [
        "unseenbse_data.columns"
      ],
      "execution_count": 412,
      "outputs": [
        {
          "output_type": "execute_result",
          "data": {
            "text/plain": [
              "Index(['Open', 'High', 'Low', 'Close', 'Adj Close', 'Volume'], dtype='object')"
            ]
          },
          "metadata": {
            "tags": []
          },
          "execution_count": 412
        }
      ]
    },
    {
      "cell_type": "code",
      "metadata": {
        "id": "YuofQqYN2v8c"
      },
      "source": [
        "bse_data.rename(columns={'Open': 'open', 'High': 'high', 'Low': 'low', 'Close': 'close', 'Adj Close': 'adjclose', 'Volume': 'volume'}, inplace = True)"
      ],
      "execution_count": 413,
      "outputs": []
    },
    {
      "cell_type": "code",
      "metadata": {
        "id": "MsnSWNE924lI"
      },
      "source": [
        "unseenbse_data.rename(columns={'Open': 'open', 'High': 'high', 'Low': 'low', 'Close': 'close', 'Adj Close': 'adjclose', 'Volume': 'volume'}, inplace = True)"
      ],
      "execution_count": 414,
      "outputs": []
    },
    {
      "cell_type": "code",
      "metadata": {
        "colab": {
          "base_uri": "https://localhost:8080/"
        },
        "id": "Ogrc9nJD27Wa",
        "outputId": "e61d4248-a3f9-40f7-9374-795780755299"
      },
      "source": [
        "bse_data.info()"
      ],
      "execution_count": 415,
      "outputs": [
        {
          "output_type": "stream",
          "text": [
            "<class 'pandas.core.frame.DataFrame'>\n",
            "DatetimeIndex: 1601 entries, 2015-01-02 to 2021-07-09\n",
            "Data columns (total 6 columns):\n",
            " #   Column    Non-Null Count  Dtype  \n",
            "---  ------    --------------  -----  \n",
            " 0   open      1601 non-null   float64\n",
            " 1   high      1601 non-null   float64\n",
            " 2   low       1601 non-null   float64\n",
            " 3   close     1601 non-null   float64\n",
            " 4   adjclose  1601 non-null   float64\n",
            " 5   volume    1601 non-null   int64  \n",
            "dtypes: float64(5), int64(1)\n",
            "memory usage: 87.6 KB\n"
          ],
          "name": "stdout"
        }
      ]
    },
    {
      "cell_type": "code",
      "metadata": {
        "colab": {
          "base_uri": "https://localhost:8080/"
        },
        "id": "xDcBr1iL2-74",
        "outputId": "7d749c99-3fc1-4585-9581-d0ebf3660517"
      },
      "source": [
        "unseenbse_data.info()"
      ],
      "execution_count": 416,
      "outputs": [
        {
          "output_type": "stream",
          "text": [
            "<class 'pandas.core.frame.DataFrame'>\n",
            "DatetimeIndex: 1 entries, 2021-07-09 to 2021-07-09\n",
            "Data columns (total 6 columns):\n",
            " #   Column    Non-Null Count  Dtype  \n",
            "---  ------    --------------  -----  \n",
            " 0   open      1 non-null      float64\n",
            " 1   high      1 non-null      float64\n",
            " 2   low       1 non-null      float64\n",
            " 3   close     1 non-null      float64\n",
            " 4   adjclose  1 non-null      float64\n",
            " 5   volume    1 non-null      int64  \n",
            "dtypes: float64(5), int64(1)\n",
            "memory usage: 56.0 bytes\n"
          ],
          "name": "stdout"
        }
      ]
    },
    {
      "cell_type": "code",
      "metadata": {
        "colab": {
          "base_uri": "https://localhost:8080/",
          "height": 235
        },
        "id": "tBJiFvls3BrN",
        "outputId": "a7dd5d75-a1c4-41f1-8e04-79ae16d94fe4"
      },
      "source": [
        "bse_data.head()"
      ],
      "execution_count": 417,
      "outputs": [
        {
          "output_type": "execute_result",
          "data": {
            "text/html": [
              "<div>\n",
              "<style scoped>\n",
              "    .dataframe tbody tr th:only-of-type {\n",
              "        vertical-align: middle;\n",
              "    }\n",
              "\n",
              "    .dataframe tbody tr th {\n",
              "        vertical-align: top;\n",
              "    }\n",
              "\n",
              "    .dataframe thead th {\n",
              "        text-align: right;\n",
              "    }\n",
              "</style>\n",
              "<table border=\"1\" class=\"dataframe\">\n",
              "  <thead>\n",
              "    <tr style=\"text-align: right;\">\n",
              "      <th></th>\n",
              "      <th>open</th>\n",
              "      <th>high</th>\n",
              "      <th>low</th>\n",
              "      <th>close</th>\n",
              "      <th>adjclose</th>\n",
              "      <th>volume</th>\n",
              "    </tr>\n",
              "    <tr>\n",
              "      <th>Date</th>\n",
              "      <th></th>\n",
              "      <th></th>\n",
              "      <th></th>\n",
              "      <th></th>\n",
              "      <th></th>\n",
              "      <th></th>\n",
              "    </tr>\n",
              "  </thead>\n",
              "  <tbody>\n",
              "    <tr>\n",
              "      <th>2015-01-02</th>\n",
              "      <td>27521.279297</td>\n",
              "      <td>27937.470703</td>\n",
              "      <td>27519.259766</td>\n",
              "      <td>27887.900391</td>\n",
              "      <td>27887.900391</td>\n",
              "      <td>7400</td>\n",
              "    </tr>\n",
              "    <tr>\n",
              "      <th>2015-01-05</th>\n",
              "      <td>27978.429688</td>\n",
              "      <td>28064.490234</td>\n",
              "      <td>27786.849609</td>\n",
              "      <td>27842.320312</td>\n",
              "      <td>27842.320312</td>\n",
              "      <td>9200</td>\n",
              "    </tr>\n",
              "    <tr>\n",
              "      <th>2015-01-06</th>\n",
              "      <td>27694.230469</td>\n",
              "      <td>27698.929688</td>\n",
              "      <td>26937.060547</td>\n",
              "      <td>26987.460938</td>\n",
              "      <td>26987.460938</td>\n",
              "      <td>14100</td>\n",
              "    </tr>\n",
              "    <tr>\n",
              "      <th>2015-01-07</th>\n",
              "      <td>26983.429688</td>\n",
              "      <td>27051.599609</td>\n",
              "      <td>26776.119141</td>\n",
              "      <td>26908.820312</td>\n",
              "      <td>26908.820312</td>\n",
              "      <td>12200</td>\n",
              "    </tr>\n",
              "    <tr>\n",
              "      <th>2015-01-08</th>\n",
              "      <td>27178.769531</td>\n",
              "      <td>27316.410156</td>\n",
              "      <td>27101.939453</td>\n",
              "      <td>27274.710938</td>\n",
              "      <td>27274.710938</td>\n",
              "      <td>8200</td>\n",
              "    </tr>\n",
              "  </tbody>\n",
              "</table>\n",
              "</div>"
            ],
            "text/plain": [
              "                    open          high  ...      adjclose  volume\n",
              "Date                                    ...                      \n",
              "2015-01-02  27521.279297  27937.470703  ...  27887.900391    7400\n",
              "2015-01-05  27978.429688  28064.490234  ...  27842.320312    9200\n",
              "2015-01-06  27694.230469  27698.929688  ...  26987.460938   14100\n",
              "2015-01-07  26983.429688  27051.599609  ...  26908.820312   12200\n",
              "2015-01-08  27178.769531  27316.410156  ...  27274.710938    8200\n",
              "\n",
              "[5 rows x 6 columns]"
            ]
          },
          "metadata": {
            "tags": []
          },
          "execution_count": 417
        }
      ]
    },
    {
      "cell_type": "code",
      "metadata": {
        "colab": {
          "base_uri": "https://localhost:8080/",
          "height": 235
        },
        "id": "Bl38e1og3GWP",
        "outputId": "5841d0a5-1bb5-4082-d70b-88b58cb94fec"
      },
      "source": [
        "bse_data.tail()"
      ],
      "execution_count": 418,
      "outputs": [
        {
          "output_type": "execute_result",
          "data": {
            "text/html": [
              "<div>\n",
              "<style scoped>\n",
              "    .dataframe tbody tr th:only-of-type {\n",
              "        vertical-align: middle;\n",
              "    }\n",
              "\n",
              "    .dataframe tbody tr th {\n",
              "        vertical-align: top;\n",
              "    }\n",
              "\n",
              "    .dataframe thead th {\n",
              "        text-align: right;\n",
              "    }\n",
              "</style>\n",
              "<table border=\"1\" class=\"dataframe\">\n",
              "  <thead>\n",
              "    <tr style=\"text-align: right;\">\n",
              "      <th></th>\n",
              "      <th>open</th>\n",
              "      <th>high</th>\n",
              "      <th>low</th>\n",
              "      <th>close</th>\n",
              "      <th>adjclose</th>\n",
              "      <th>volume</th>\n",
              "    </tr>\n",
              "    <tr>\n",
              "      <th>Date</th>\n",
              "      <th></th>\n",
              "      <th></th>\n",
              "      <th></th>\n",
              "      <th></th>\n",
              "      <th></th>\n",
              "      <th></th>\n",
              "    </tr>\n",
              "  </thead>\n",
              "  <tbody>\n",
              "    <tr>\n",
              "      <th>2021-07-05</th>\n",
              "      <td>52682.890625</td>\n",
              "      <td>52919.171875</td>\n",
              "      <td>52604.351562</td>\n",
              "      <td>52880.000000</td>\n",
              "      <td>52880.000000</td>\n",
              "      <td>7600</td>\n",
              "    </tr>\n",
              "    <tr>\n",
              "      <th>2021-07-06</th>\n",
              "      <td>52874.851562</td>\n",
              "      <td>53129.371094</td>\n",
              "      <td>52804.179688</td>\n",
              "      <td>52861.179688</td>\n",
              "      <td>52861.179688</td>\n",
              "      <td>7000</td>\n",
              "    </tr>\n",
              "    <tr>\n",
              "      <th>2021-07-07</th>\n",
              "      <td>52919.710938</td>\n",
              "      <td>53105.410156</td>\n",
              "      <td>52751.761719</td>\n",
              "      <td>53054.761719</td>\n",
              "      <td>53054.761719</td>\n",
              "      <td>8000</td>\n",
              "    </tr>\n",
              "    <tr>\n",
              "      <th>2021-07-08</th>\n",
              "      <td>53065.691406</td>\n",
              "      <td>53103.031250</td>\n",
              "      <td>52428.839844</td>\n",
              "      <td>52568.941406</td>\n",
              "      <td>52568.941406</td>\n",
              "      <td>6400</td>\n",
              "    </tr>\n",
              "    <tr>\n",
              "      <th>2021-07-09</th>\n",
              "      <td>52508.238281</td>\n",
              "      <td>52555.730469</td>\n",
              "      <td>52228.011719</td>\n",
              "      <td>52386.191406</td>\n",
              "      <td>52386.191406</td>\n",
              "      <td>6400</td>\n",
              "    </tr>\n",
              "  </tbody>\n",
              "</table>\n",
              "</div>"
            ],
            "text/plain": [
              "                    open          high  ...      adjclose  volume\n",
              "Date                                    ...                      \n",
              "2021-07-05  52682.890625  52919.171875  ...  52880.000000    7600\n",
              "2021-07-06  52874.851562  53129.371094  ...  52861.179688    7000\n",
              "2021-07-07  52919.710938  53105.410156  ...  53054.761719    8000\n",
              "2021-07-08  53065.691406  53103.031250  ...  52568.941406    6400\n",
              "2021-07-09  52508.238281  52555.730469  ...  52386.191406    6400\n",
              "\n",
              "[5 rows x 6 columns]"
            ]
          },
          "metadata": {
            "tags": []
          },
          "execution_count": 418
        }
      ]
    },
    {
      "cell_type": "code",
      "metadata": {
        "colab": {
          "base_uri": "https://localhost:8080/",
          "height": 111
        },
        "id": "3ZBIrc-_3Ipn",
        "outputId": "5b130434-5f71-4743-9f3f-de3010a6a9a3"
      },
      "source": [
        "unseenbse_data.head()"
      ],
      "execution_count": 419,
      "outputs": [
        {
          "output_type": "execute_result",
          "data": {
            "text/html": [
              "<div>\n",
              "<style scoped>\n",
              "    .dataframe tbody tr th:only-of-type {\n",
              "        vertical-align: middle;\n",
              "    }\n",
              "\n",
              "    .dataframe tbody tr th {\n",
              "        vertical-align: top;\n",
              "    }\n",
              "\n",
              "    .dataframe thead th {\n",
              "        text-align: right;\n",
              "    }\n",
              "</style>\n",
              "<table border=\"1\" class=\"dataframe\">\n",
              "  <thead>\n",
              "    <tr style=\"text-align: right;\">\n",
              "      <th></th>\n",
              "      <th>open</th>\n",
              "      <th>high</th>\n",
              "      <th>low</th>\n",
              "      <th>close</th>\n",
              "      <th>adjclose</th>\n",
              "      <th>volume</th>\n",
              "    </tr>\n",
              "    <tr>\n",
              "      <th>Date</th>\n",
              "      <th></th>\n",
              "      <th></th>\n",
              "      <th></th>\n",
              "      <th></th>\n",
              "      <th></th>\n",
              "      <th></th>\n",
              "    </tr>\n",
              "  </thead>\n",
              "  <tbody>\n",
              "    <tr>\n",
              "      <th>2021-07-09</th>\n",
              "      <td>52508.238281</td>\n",
              "      <td>52555.730469</td>\n",
              "      <td>52228.011719</td>\n",
              "      <td>52386.191406</td>\n",
              "      <td>52386.191406</td>\n",
              "      <td>6400</td>\n",
              "    </tr>\n",
              "  </tbody>\n",
              "</table>\n",
              "</div>"
            ],
            "text/plain": [
              "                    open          high  ...      adjclose  volume\n",
              "Date                                    ...                      \n",
              "2021-07-09  52508.238281  52555.730469  ...  52386.191406    6400\n",
              "\n",
              "[1 rows x 6 columns]"
            ]
          },
          "metadata": {
            "tags": []
          },
          "execution_count": 419
        }
      ]
    },
    {
      "cell_type": "code",
      "metadata": {
        "id": "bwF2rs763Lhn"
      },
      "source": [
        "bse_data.reset_index(inplace=True)"
      ],
      "execution_count": 420,
      "outputs": []
    },
    {
      "cell_type": "code",
      "metadata": {
        "id": "uM4fSJS93Ou3"
      },
      "source": [
        "bse_data.rename(columns={'Date': 'date'}, inplace = True)"
      ],
      "execution_count": 421,
      "outputs": []
    },
    {
      "cell_type": "code",
      "metadata": {
        "colab": {
          "base_uri": "https://localhost:8080/",
          "height": 204
        },
        "id": "XHlPJRmn3Sc-",
        "outputId": "b3f3ae36-3d69-45ab-fd72-6e5a7a5ad592"
      },
      "source": [
        "bse_data.head()"
      ],
      "execution_count": 422,
      "outputs": [
        {
          "output_type": "execute_result",
          "data": {
            "text/html": [
              "<div>\n",
              "<style scoped>\n",
              "    .dataframe tbody tr th:only-of-type {\n",
              "        vertical-align: middle;\n",
              "    }\n",
              "\n",
              "    .dataframe tbody tr th {\n",
              "        vertical-align: top;\n",
              "    }\n",
              "\n",
              "    .dataframe thead th {\n",
              "        text-align: right;\n",
              "    }\n",
              "</style>\n",
              "<table border=\"1\" class=\"dataframe\">\n",
              "  <thead>\n",
              "    <tr style=\"text-align: right;\">\n",
              "      <th></th>\n",
              "      <th>date</th>\n",
              "      <th>open</th>\n",
              "      <th>high</th>\n",
              "      <th>low</th>\n",
              "      <th>close</th>\n",
              "      <th>adjclose</th>\n",
              "      <th>volume</th>\n",
              "    </tr>\n",
              "  </thead>\n",
              "  <tbody>\n",
              "    <tr>\n",
              "      <th>0</th>\n",
              "      <td>2015-01-02</td>\n",
              "      <td>27521.279297</td>\n",
              "      <td>27937.470703</td>\n",
              "      <td>27519.259766</td>\n",
              "      <td>27887.900391</td>\n",
              "      <td>27887.900391</td>\n",
              "      <td>7400</td>\n",
              "    </tr>\n",
              "    <tr>\n",
              "      <th>1</th>\n",
              "      <td>2015-01-05</td>\n",
              "      <td>27978.429688</td>\n",
              "      <td>28064.490234</td>\n",
              "      <td>27786.849609</td>\n",
              "      <td>27842.320312</td>\n",
              "      <td>27842.320312</td>\n",
              "      <td>9200</td>\n",
              "    </tr>\n",
              "    <tr>\n",
              "      <th>2</th>\n",
              "      <td>2015-01-06</td>\n",
              "      <td>27694.230469</td>\n",
              "      <td>27698.929688</td>\n",
              "      <td>26937.060547</td>\n",
              "      <td>26987.460938</td>\n",
              "      <td>26987.460938</td>\n",
              "      <td>14100</td>\n",
              "    </tr>\n",
              "    <tr>\n",
              "      <th>3</th>\n",
              "      <td>2015-01-07</td>\n",
              "      <td>26983.429688</td>\n",
              "      <td>27051.599609</td>\n",
              "      <td>26776.119141</td>\n",
              "      <td>26908.820312</td>\n",
              "      <td>26908.820312</td>\n",
              "      <td>12200</td>\n",
              "    </tr>\n",
              "    <tr>\n",
              "      <th>4</th>\n",
              "      <td>2015-01-08</td>\n",
              "      <td>27178.769531</td>\n",
              "      <td>27316.410156</td>\n",
              "      <td>27101.939453</td>\n",
              "      <td>27274.710938</td>\n",
              "      <td>27274.710938</td>\n",
              "      <td>8200</td>\n",
              "    </tr>\n",
              "  </tbody>\n",
              "</table>\n",
              "</div>"
            ],
            "text/plain": [
              "        date          open          high  ...         close      adjclose  volume\n",
              "0 2015-01-02  27521.279297  27937.470703  ...  27887.900391  27887.900391    7400\n",
              "1 2015-01-05  27978.429688  28064.490234  ...  27842.320312  27842.320312    9200\n",
              "2 2015-01-06  27694.230469  27698.929688  ...  26987.460938  26987.460938   14100\n",
              "3 2015-01-07  26983.429688  27051.599609  ...  26908.820312  26908.820312   12200\n",
              "4 2015-01-08  27178.769531  27316.410156  ...  27274.710938  27274.710938    8200\n",
              "\n",
              "[5 rows x 7 columns]"
            ]
          },
          "metadata": {
            "tags": []
          },
          "execution_count": 422
        }
      ]
    },
    {
      "cell_type": "code",
      "metadata": {
        "id": "UBPOjlgv3UQs"
      },
      "source": [
        "unseenbse_data.reset_index(inplace=True)"
      ],
      "execution_count": 423,
      "outputs": []
    },
    {
      "cell_type": "code",
      "metadata": {
        "id": "DhoU549c3Y_L"
      },
      "source": [
        "unseenbse_data.rename(columns={'Date': 'date'}, inplace = True)"
      ],
      "execution_count": 424,
      "outputs": []
    },
    {
      "cell_type": "code",
      "metadata": {
        "colab": {
          "base_uri": "https://localhost:8080/",
          "height": 80
        },
        "id": "OnNGdd8w3ar0",
        "outputId": "930f9293-f00c-4850-a4f5-17aa253b9e5e"
      },
      "source": [
        "unseenbse_data.head()"
      ],
      "execution_count": 425,
      "outputs": [
        {
          "output_type": "execute_result",
          "data": {
            "text/html": [
              "<div>\n",
              "<style scoped>\n",
              "    .dataframe tbody tr th:only-of-type {\n",
              "        vertical-align: middle;\n",
              "    }\n",
              "\n",
              "    .dataframe tbody tr th {\n",
              "        vertical-align: top;\n",
              "    }\n",
              "\n",
              "    .dataframe thead th {\n",
              "        text-align: right;\n",
              "    }\n",
              "</style>\n",
              "<table border=\"1\" class=\"dataframe\">\n",
              "  <thead>\n",
              "    <tr style=\"text-align: right;\">\n",
              "      <th></th>\n",
              "      <th>date</th>\n",
              "      <th>open</th>\n",
              "      <th>high</th>\n",
              "      <th>low</th>\n",
              "      <th>close</th>\n",
              "      <th>adjclose</th>\n",
              "      <th>volume</th>\n",
              "    </tr>\n",
              "  </thead>\n",
              "  <tbody>\n",
              "    <tr>\n",
              "      <th>0</th>\n",
              "      <td>2021-07-09</td>\n",
              "      <td>52508.238281</td>\n",
              "      <td>52555.730469</td>\n",
              "      <td>52228.011719</td>\n",
              "      <td>52386.191406</td>\n",
              "      <td>52386.191406</td>\n",
              "      <td>6400</td>\n",
              "    </tr>\n",
              "  </tbody>\n",
              "</table>\n",
              "</div>"
            ],
            "text/plain": [
              "        date          open          high  ...         close      adjclose  volume\n",
              "0 2021-07-09  52508.238281  52555.730469  ...  52386.191406  52386.191406    6400\n",
              "\n",
              "[1 rows x 7 columns]"
            ]
          },
          "metadata": {
            "tags": []
          },
          "execution_count": 425
        }
      ]
    },
    {
      "cell_type": "code",
      "metadata": {
        "id": "_T3F6v3b3cSB"
      },
      "source": [
        "bse_data['date'] = pd.to_datetime(bse_data['date'], format = '%Y%m%d')"
      ],
      "execution_count": 426,
      "outputs": []
    },
    {
      "cell_type": "code",
      "metadata": {
        "id": "ZeuorKAG3fz3"
      },
      "source": [
        "unseenbse_data['date'] = pd.to_datetime(unseenbse_data['date'], format = '%Y%m%d')"
      ],
      "execution_count": 427,
      "outputs": []
    },
    {
      "cell_type": "code",
      "metadata": {
        "colab": {
          "base_uri": "https://localhost:8080/"
        },
        "id": "u__FdupS3he7",
        "outputId": "ee48c2fa-2b4e-4ff4-e2d5-e6f37bf5254f"
      },
      "source": [
        "#before moving forward let us calculate first the actual price\n",
        "unseenbsedata_price = round((unseenbse_data['high'] + unseenbse_data['low'] + unseenbse_data['close'])/ 3, 2)\n",
        "unseenbsedata_price  #actual price"
      ],
      "execution_count": 428,
      "outputs": [
        {
          "output_type": "execute_result",
          "data": {
            "text/plain": [
              "0    52389.98\n",
              "dtype: float64"
            ]
          },
          "metadata": {
            "tags": []
          },
          "execution_count": 428
        }
      ]
    },
    {
      "cell_type": "markdown",
      "metadata": {
        "id": "X7XhssPH3sKX"
      },
      "source": [
        "# ***Rolling window analysis of time series***"
      ]
    },
    {
      "cell_type": "code",
      "metadata": {
        "id": "3hWDU0T13nb3"
      },
      "source": [
        "def stock_weekmovingavg(wks, df):\n",
        "  dateclose_data = pd.DataFrame({'date': df['date'], 'close':df['close']})\n",
        "  dateclose_data.set_index('date', inplace=True)\n",
        "  num = wks * 5                                 #calculating the number of days in the week. 5 days because BSE is open for 5 days / week\n",
        "  dateclose_data['movingavg'] = dateclose_data['close'].rolling(window=num).mean().shift()\n",
        "  return dateclose_data.dropna()\n"
      ],
      "execution_count": 429,
      "outputs": []
    },
    {
      "cell_type": "code",
      "metadata": {
        "colab": {
          "base_uri": "https://localhost:8080/",
          "height": 235
        },
        "id": "7hecsNXJ31MB",
        "outputId": "210e0904-fa34-4b8b-873b-40a3aaadd45e"
      },
      "source": [
        "stock_weekmovingavg(4, bse_data).head()"
      ],
      "execution_count": 430,
      "outputs": [
        {
          "output_type": "execute_result",
          "data": {
            "text/html": [
              "<div>\n",
              "<style scoped>\n",
              "    .dataframe tbody tr th:only-of-type {\n",
              "        vertical-align: middle;\n",
              "    }\n",
              "\n",
              "    .dataframe tbody tr th {\n",
              "        vertical-align: top;\n",
              "    }\n",
              "\n",
              "    .dataframe thead th {\n",
              "        text-align: right;\n",
              "    }\n",
              "</style>\n",
              "<table border=\"1\" class=\"dataframe\">\n",
              "  <thead>\n",
              "    <tr style=\"text-align: right;\">\n",
              "      <th></th>\n",
              "      <th>close</th>\n",
              "      <th>movingavg</th>\n",
              "    </tr>\n",
              "    <tr>\n",
              "      <th>date</th>\n",
              "      <th></th>\n",
              "      <th></th>\n",
              "    </tr>\n",
              "  </thead>\n",
              "  <tbody>\n",
              "    <tr>\n",
              "      <th>2015-02-02</th>\n",
              "      <td>29122.269531</td>\n",
              "      <td>28256.509570</td>\n",
              "    </tr>\n",
              "    <tr>\n",
              "      <th>2015-02-03</th>\n",
              "      <td>29000.140625</td>\n",
              "      <td>28318.228027</td>\n",
              "    </tr>\n",
              "    <tr>\n",
              "      <th>2015-02-04</th>\n",
              "      <td>28883.109375</td>\n",
              "      <td>28376.119043</td>\n",
              "    </tr>\n",
              "    <tr>\n",
              "      <th>2015-02-05</th>\n",
              "      <td>28850.970703</td>\n",
              "      <td>28470.901465</td>\n",
              "    </tr>\n",
              "    <tr>\n",
              "      <th>2015-02-06</th>\n",
              "      <td>28717.910156</td>\n",
              "      <td>28568.008984</td>\n",
              "    </tr>\n",
              "  </tbody>\n",
              "</table>\n",
              "</div>"
            ],
            "text/plain": [
              "                   close     movingavg\n",
              "date                                  \n",
              "2015-02-02  29122.269531  28256.509570\n",
              "2015-02-03  29000.140625  28318.228027\n",
              "2015-02-04  28883.109375  28376.119043\n",
              "2015-02-05  28850.970703  28470.901465\n",
              "2015-02-06  28717.910156  28568.008984"
            ]
          },
          "metadata": {
            "tags": []
          },
          "execution_count": 430
        }
      ]
    },
    {
      "cell_type": "code",
      "metadata": {
        "colab": {
          "base_uri": "https://localhost:8080/",
          "height": 286
        },
        "id": "SfM_ruJ333pI",
        "outputId": "f2f8a1c3-3360-4a76-b2a7-327533c51412"
      },
      "source": [
        "stock_weekmovingavg(4, bse_data).plot()"
      ],
      "execution_count": 431,
      "outputs": [
        {
          "output_type": "execute_result",
          "data": {
            "text/plain": [
              "<matplotlib.axes._subplots.AxesSubplot at 0x7fa1c5c2e3d0>"
            ]
          },
          "metadata": {
            "tags": []
          },
          "execution_count": 431
        },
        {
          "output_type": "display_data",
          "data": {
            "image/png": "[encoded data removed]",
            "text/plain": [
              "<Figure size 432x288 with 1 Axes>"
            ]
          },
          "metadata": {
            "tags": [],
            "needs_background": "light"
          }
        }
      ]
    },
    {
      "cell_type": "code",
      "metadata": {
        "id": "ymFWOn7T36mx"
      },
      "source": [
        "altdata_fourweek = stock_weekmovingavg(4, bse_data)\n",
        "altdata_fourweek.reset_index(inplace=True)\n",
        "altdata_fourweek.rename(columns={list(altdata_fourweek)[0]:'date'}, inplace=True)"
      ],
      "execution_count": 432,
      "outputs": []
    },
    {
      "cell_type": "code",
      "metadata": {
        "id": "UnWsFbMj3-9_"
      },
      "source": [
        "alt.Chart(altdata_fourweek).mark_point().encode(\n",
        "    x='date',\n",
        "    y='movingavg'\n",
        ")"
      ],
      "execution_count": null,
      "outputs": []
    },
    {
      "cell_type": "code",
      "metadata": {
        "colab": {
          "base_uri": "https://localhost:8080/",
          "height": 235
        },
        "id": "cVj1wAfV4Bmj",
        "outputId": "dc859b5e-68ce-46e1-c198-093ebf3a9286"
      },
      "source": [
        "stock_weekmovingavg(16, bse_data).head()"
      ],
      "execution_count": 434,
      "outputs": [
        {
          "output_type": "execute_result",
          "data": {
            "text/html": [
              "<div>\n",
              "<style scoped>\n",
              "    .dataframe tbody tr th:only-of-type {\n",
              "        vertical-align: middle;\n",
              "    }\n",
              "\n",
              "    .dataframe tbody tr th {\n",
              "        vertical-align: top;\n",
              "    }\n",
              "\n",
              "    .dataframe thead th {\n",
              "        text-align: right;\n",
              "    }\n",
              "</style>\n",
              "<table border=\"1\" class=\"dataframe\">\n",
              "  <thead>\n",
              "    <tr style=\"text-align: right;\">\n",
              "      <th></th>\n",
              "      <th>close</th>\n",
              "      <th>movingavg</th>\n",
              "    </tr>\n",
              "    <tr>\n",
              "      <th>date</th>\n",
              "      <th></th>\n",
              "      <th></th>\n",
              "    </tr>\n",
              "  </thead>\n",
              "  <tbody>\n",
              "    <tr>\n",
              "      <th>2015-05-05</th>\n",
              "      <td>27440.140625</td>\n",
              "      <td>28447.880933</td>\n",
              "    </tr>\n",
              "    <tr>\n",
              "      <th>2015-05-06</th>\n",
              "      <td>26717.369141</td>\n",
              "      <td>28442.283936</td>\n",
              "    </tr>\n",
              "    <tr>\n",
              "      <th>2015-05-07</th>\n",
              "      <td>26599.109375</td>\n",
              "      <td>28428.222046</td>\n",
              "    </tr>\n",
              "    <tr>\n",
              "      <th>2015-05-08</th>\n",
              "      <td>27105.390625</td>\n",
              "      <td>28423.367651</td>\n",
              "    </tr>\n",
              "    <tr>\n",
              "      <th>2015-05-11</th>\n",
              "      <td>27507.300781</td>\n",
              "      <td>28425.824780</td>\n",
              "    </tr>\n",
              "  </tbody>\n",
              "</table>\n",
              "</div>"
            ],
            "text/plain": [
              "                   close     movingavg\n",
              "date                                  \n",
              "2015-05-05  27440.140625  28447.880933\n",
              "2015-05-06  26717.369141  28442.283936\n",
              "2015-05-07  26599.109375  28428.222046\n",
              "2015-05-08  27105.390625  28423.367651\n",
              "2015-05-11  27507.300781  28425.824780"
            ]
          },
          "metadata": {
            "tags": []
          },
          "execution_count": 434
        }
      ]
    },
    {
      "cell_type": "code",
      "metadata": {
        "colab": {
          "base_uri": "https://localhost:8080/",
          "height": 286
        },
        "id": "dmtBuowt4KH-",
        "outputId": "80c5b366-b11f-4c68-918a-8bf088e0f96a"
      },
      "source": [
        "stock_weekmovingavg(16, bse_data).plot()"
      ],
      "execution_count": 435,
      "outputs": [
        {
          "output_type": "execute_result",
          "data": {
            "text/plain": [
              "<matplotlib.axes._subplots.AxesSubplot at 0x7fa1d9ba1490>"
            ]
          },
          "metadata": {
            "tags": []
          },
          "execution_count": 435
        },
        {
          "output_type": "display_data",
          "data": {
            "image/png": "[encoded data removed]",
            "text/plain": [
              "<Figure size 432x288 with 1 Axes>"
            ]
          },
          "metadata": {
            "tags": [],
            "needs_background": "light"
          }
        }
      ]
    },
    {
      "cell_type": "code",
      "metadata": {
        "id": "s-UenXyy4NFU"
      },
      "source": [
        "altdata_sixteenweek = stock_weekmovingavg(16, bse_data)\n",
        "altdata_sixteenweek.reset_index(inplace=True)\n",
        "altdata_sixteenweek.rename(columns={list(altdata_sixteenweek)[0]:'date'}, inplace=True)"
      ],
      "execution_count": 436,
      "outputs": []
    },
    {
      "cell_type": "code",
      "metadata": {
        "id": "8F5-IcJ14eQq"
      },
      "source": [
        "alt.Chart(altdata_sixteenweek).mark_point().encode(\n",
        "    x='date',\n",
        "    y='movingavg'\n",
        ")"
      ],
      "execution_count": null,
      "outputs": []
    },
    {
      "cell_type": "code",
      "metadata": {
        "colab": {
          "base_uri": "https://localhost:8080/",
          "height": 235
        },
        "id": "YwqTRKgu4g1C",
        "outputId": "8eb245d9-5234-4560-ed15-b31a51905fe3"
      },
      "source": [
        "stock_weekmovingavg(52, bse_data).head()"
      ],
      "execution_count": 438,
      "outputs": [
        {
          "output_type": "execute_result",
          "data": {
            "text/html": [
              "<div>\n",
              "<style scoped>\n",
              "    .dataframe tbody tr th:only-of-type {\n",
              "        vertical-align: middle;\n",
              "    }\n",
              "\n",
              "    .dataframe tbody tr th {\n",
              "        vertical-align: top;\n",
              "    }\n",
              "\n",
              "    .dataframe thead th {\n",
              "        text-align: right;\n",
              "    }\n",
              "</style>\n",
              "<table border=\"1\" class=\"dataframe\">\n",
              "  <thead>\n",
              "    <tr style=\"text-align: right;\">\n",
              "      <th></th>\n",
              "      <th>close</th>\n",
              "      <th>movingavg</th>\n",
              "    </tr>\n",
              "    <tr>\n",
              "      <th>date</th>\n",
              "      <th></th>\n",
              "      <th></th>\n",
              "    </tr>\n",
              "  </thead>\n",
              "  <tbody>\n",
              "    <tr>\n",
              "      <th>2016-01-25</th>\n",
              "      <td>24485.949219</td>\n",
              "      <td>27198.907963</td>\n",
              "    </tr>\n",
              "    <tr>\n",
              "      <th>2016-01-27</th>\n",
              "      <td>24492.390625</td>\n",
              "      <td>27185.823535</td>\n",
              "    </tr>\n",
              "    <tr>\n",
              "      <th>2016-01-28</th>\n",
              "      <td>24469.570312</td>\n",
              "      <td>27172.939190</td>\n",
              "    </tr>\n",
              "    <tr>\n",
              "      <th>2016-01-29</th>\n",
              "      <td>24870.689453</td>\n",
              "      <td>27163.254995</td>\n",
              "    </tr>\n",
              "    <tr>\n",
              "      <th>2016-02-01</th>\n",
              "      <td>24824.830078</td>\n",
              "      <td>27155.416031</td>\n",
              "    </tr>\n",
              "  </tbody>\n",
              "</table>\n",
              "</div>"
            ],
            "text/plain": [
              "                   close     movingavg\n",
              "date                                  \n",
              "2016-01-25  24485.949219  27198.907963\n",
              "2016-01-27  24492.390625  27185.823535\n",
              "2016-01-28  24469.570312  27172.939190\n",
              "2016-01-29  24870.689453  27163.254995\n",
              "2016-02-01  24824.830078  27155.416031"
            ]
          },
          "metadata": {
            "tags": []
          },
          "execution_count": 438
        }
      ]
    },
    {
      "cell_type": "code",
      "metadata": {
        "colab": {
          "base_uri": "https://localhost:8080/",
          "height": 286
        },
        "id": "So1FN6U94nhp",
        "outputId": "4291bcc7-44bb-4b11-fb37-7a45a3391b35"
      },
      "source": [
        "stock_weekmovingavg(52, bse_data).plot()"
      ],
      "execution_count": 439,
      "outputs": [
        {
          "output_type": "execute_result",
          "data": {
            "text/plain": [
              "<matplotlib.axes._subplots.AxesSubplot at 0x7fa1d9a8b2d0>"
            ]
          },
          "metadata": {
            "tags": []
          },
          "execution_count": 439
        },
        {
          "output_type": "display_data",
          "data": {
            "image/png": "[encoded data removed]",
            "text/plain": [
              "<Figure size 432x288 with 1 Axes>"
            ]
          },
          "metadata": {
            "tags": [],
            "needs_background": "light"
          }
        }
      ]
    },
    {
      "cell_type": "code",
      "metadata": {
        "id": "bSTC-zW94qzb"
      },
      "source": [
        "\n",
        "altdata_fiftytwoweek = stock_weekmovingavg(52, bse_data)\n",
        "altdata_fiftytwoweek.reset_index(inplace=True)\n",
        "altdata_fiftytwoweek.rename(columns={list(altdata_fiftytwoweek)[0]:'date'}, inplace=True)"
      ],
      "execution_count": 440,
      "outputs": []
    },
    {
      "cell_type": "code",
      "metadata": {
        "id": "Ji4jeSFT4uBd"
      },
      "source": [
        "alt.Chart(altdata_fiftytwoweek).mark_point().encode(\n",
        "    x='date',\n",
        "    y='movingavg'\n",
        ")"
      ],
      "execution_count": null,
      "outputs": []
    },
    {
      "cell_type": "markdown",
      "metadata": {
        "id": "Zv7tVhYh4zro"
      },
      "source": [
        "# ***Creating a rolling window of size 10 and 50 of the BSE index***"
      ]
    },
    {
      "cell_type": "code",
      "metadata": {
        "id": "HrohDBrJ4vwx"
      },
      "source": [
        "def rollingwindows(days, df):\n",
        "  data = df.filter(['date','open','high','low','close'], axis=1) #df.copy()\n",
        "  data.set_index('date', inplace=True)\n",
        "  rollingwindows_data = data.rolling(window=days).mean().shift()\n",
        "  return rollingwindows_data.dropna()"
      ],
      "execution_count": 442,
      "outputs": []
    },
    {
      "cell_type": "code",
      "metadata": {
        "colab": {
          "base_uri": "https://localhost:8080/",
          "height": 235
        },
        "id": "wnmsbJD545rb",
        "outputId": "f1e647dc-e97e-4f67-8247-b0bd00b1a807"
      },
      "source": [
        "rollingwindows(10, bse_data).head()"
      ],
      "execution_count": 443,
      "outputs": [
        {
          "output_type": "execute_result",
          "data": {
            "text/html": [
              "<div>\n",
              "<style scoped>\n",
              "    .dataframe tbody tr th:only-of-type {\n",
              "        vertical-align: middle;\n",
              "    }\n",
              "\n",
              "    .dataframe tbody tr th {\n",
              "        vertical-align: top;\n",
              "    }\n",
              "\n",
              "    .dataframe thead th {\n",
              "        text-align: right;\n",
              "    }\n",
              "</style>\n",
              "<table border=\"1\" class=\"dataframe\">\n",
              "  <thead>\n",
              "    <tr style=\"text-align: right;\">\n",
              "      <th></th>\n",
              "      <th>open</th>\n",
              "      <th>high</th>\n",
              "      <th>low</th>\n",
              "      <th>close</th>\n",
              "    </tr>\n",
              "    <tr>\n",
              "      <th>date</th>\n",
              "      <th></th>\n",
              "      <th></th>\n",
              "      <th></th>\n",
              "      <th></th>\n",
              "    </tr>\n",
              "  </thead>\n",
              "  <tbody>\n",
              "    <tr>\n",
              "      <th>2015-01-16</th>\n",
              "      <td>27515.904883</td>\n",
              "      <td>27657.483008</td>\n",
              "      <td>27279.612891</td>\n",
              "      <td>27479.296484</td>\n",
              "    </tr>\n",
              "    <tr>\n",
              "      <th>2015-01-19</th>\n",
              "      <td>27569.437891</td>\n",
              "      <td>27681.345898</td>\n",
              "      <td>27322.217969</td>\n",
              "      <td>27502.695508</td>\n",
              "    </tr>\n",
              "    <tr>\n",
              "      <th>2015-01-20</th>\n",
              "      <td>27596.578906</td>\n",
              "      <td>27708.302930</td>\n",
              "      <td>27363.268945</td>\n",
              "      <td>27544.664453</td>\n",
              "    </tr>\n",
              "    <tr>\n",
              "      <th>2015-01-21</th>\n",
              "      <td>27659.640820</td>\n",
              "      <td>27821.338867</td>\n",
              "      <td>27502.047852</td>\n",
              "      <td>27724.385352</td>\n",
              "    </tr>\n",
              "    <tr>\n",
              "      <th>2015-01-22</th>\n",
              "      <td>27845.606836</td>\n",
              "      <td>28011.988867</td>\n",
              "      <td>27703.692969</td>\n",
              "      <td>27922.389258</td>\n",
              "    </tr>\n",
              "  </tbody>\n",
              "</table>\n",
              "</div>"
            ],
            "text/plain": [
              "                    open          high           low         close\n",
              "date                                                              \n",
              "2015-01-16  27515.904883  27657.483008  27279.612891  27479.296484\n",
              "2015-01-19  27569.437891  27681.345898  27322.217969  27502.695508\n",
              "2015-01-20  27596.578906  27708.302930  27363.268945  27544.664453\n",
              "2015-01-21  27659.640820  27821.338867  27502.047852  27724.385352\n",
              "2015-01-22  27845.606836  28011.988867  27703.692969  27922.389258"
            ]
          },
          "metadata": {
            "tags": []
          },
          "execution_count": 443
        }
      ]
    },
    {
      "cell_type": "code",
      "metadata": {
        "colab": {
          "base_uri": "https://localhost:8080/",
          "height": 286
        },
        "id": "XqksecMF47fb",
        "outputId": "3b99baed-dad3-4c05-8e7d-1195608f37de"
      },
      "source": [
        "rollingwindows(10, bse_data).plot()"
      ],
      "execution_count": 444,
      "outputs": [
        {
          "output_type": "execute_result",
          "data": {
            "text/plain": [
              "<matplotlib.axes._subplots.AxesSubplot at 0x7fa1c5c27350>"
            ]
          },
          "metadata": {
            "tags": []
          },
          "execution_count": 444
        },
        {
          "output_type": "display_data",
          "data": {
            "image/png": "[encoded data removed]",
            "text/plain": [
              "<Figure size 432x288 with 1 Axes>"
            ]
          },
          "metadata": {
            "tags": [],
            "needs_background": "light"
          }
        }
      ]
    },
    {
      "cell_type": "code",
      "metadata": {
        "id": "mtFLTAnM4-Z-"
      },
      "source": [
        "altdata_tendays = rollingwindows(10, bse_data)\n",
        "altdata_tendays.reset_index(inplace=True)\n",
        "altdata_tendays.rename(columns={list(altdata_tendays)[0]:'date'}, inplace=True)"
      ],
      "execution_count": 445,
      "outputs": []
    },
    {
      "cell_type": "code",
      "metadata": {
        "id": "pn7-SpPJ5CCE"
      },
      "source": [
        "alt.Chart(altdata_tendays).mark_point().encode(\n",
        "    x ='date',\n",
        "    y = 'close'\n",
        ")"
      ],
      "execution_count": null,
      "outputs": []
    },
    {
      "cell_type": "code",
      "metadata": {
        "colab": {
          "base_uri": "https://localhost:8080/",
          "height": 235
        },
        "id": "hmtfSQWF5Dvm",
        "outputId": "01f7ca1a-0ef6-446a-cc92-6a836e1f67b3"
      },
      "source": [
        "rollingwindows(50, bse_data).head()"
      ],
      "execution_count": 447,
      "outputs": [
        {
          "output_type": "execute_result",
          "data": {
            "text/html": [
              "<div>\n",
              "<style scoped>\n",
              "    .dataframe tbody tr th:only-of-type {\n",
              "        vertical-align: middle;\n",
              "    }\n",
              "\n",
              "    .dataframe tbody tr th {\n",
              "        vertical-align: top;\n",
              "    }\n",
              "\n",
              "    .dataframe thead th {\n",
              "        text-align: right;\n",
              "    }\n",
              "</style>\n",
              "<table border=\"1\" class=\"dataframe\">\n",
              "  <thead>\n",
              "    <tr style=\"text-align: right;\">\n",
              "      <th></th>\n",
              "      <th>open</th>\n",
              "      <th>high</th>\n",
              "      <th>low</th>\n",
              "      <th>close</th>\n",
              "    </tr>\n",
              "    <tr>\n",
              "      <th>date</th>\n",
              "      <th></th>\n",
              "      <th></th>\n",
              "      <th></th>\n",
              "      <th></th>\n",
              "    </tr>\n",
              "  </thead>\n",
              "  <tbody>\n",
              "    <tr>\n",
              "      <th>2015-03-18</th>\n",
              "      <td>28721.847383</td>\n",
              "      <td>28863.956836</td>\n",
              "      <td>28502.767422</td>\n",
              "      <td>28670.602461</td>\n",
              "    </tr>\n",
              "    <tr>\n",
              "      <th>2015-03-19</th>\n",
              "      <td>28746.759180</td>\n",
              "      <td>28881.346836</td>\n",
              "      <td>28523.317422</td>\n",
              "      <td>28685.286836</td>\n",
              "    </tr>\n",
              "    <tr>\n",
              "      <th>2015-03-20</th>\n",
              "      <td>28763.295000</td>\n",
              "      <td>28899.631836</td>\n",
              "      <td>28535.814414</td>\n",
              "      <td>28697.833828</td>\n",
              "    </tr>\n",
              "    <tr>\n",
              "      <th>2015-03-23</th>\n",
              "      <td>28778.719180</td>\n",
              "      <td>28915.340430</td>\n",
              "      <td>28561.266406</td>\n",
              "      <td>28723.306211</td>\n",
              "    </tr>\n",
              "    <tr>\n",
              "      <th>2015-03-24</th>\n",
              "      <td>28805.396367</td>\n",
              "      <td>28942.011250</td>\n",
              "      <td>28589.022031</td>\n",
              "      <td>28748.970195</td>\n",
              "    </tr>\n",
              "  </tbody>\n",
              "</table>\n",
              "</div>"
            ],
            "text/plain": [
              "                    open          high           low         close\n",
              "date                                                              \n",
              "2015-03-18  28721.847383  28863.956836  28502.767422  28670.602461\n",
              "2015-03-19  28746.759180  28881.346836  28523.317422  28685.286836\n",
              "2015-03-20  28763.295000  28899.631836  28535.814414  28697.833828\n",
              "2015-03-23  28778.719180  28915.340430  28561.266406  28723.306211\n",
              "2015-03-24  28805.396367  28942.011250  28589.022031  28748.970195"
            ]
          },
          "metadata": {
            "tags": []
          },
          "execution_count": 447
        }
      ]
    },
    {
      "cell_type": "code",
      "metadata": {
        "colab": {
          "base_uri": "https://localhost:8080/",
          "height": 286
        },
        "id": "o0pTzzWO5JjV",
        "outputId": "591b2e0e-7021-4c08-e88a-16dc64e7e41e"
      },
      "source": [
        "rollingwindows(50, bse_data).plot()"
      ],
      "execution_count": 448,
      "outputs": [
        {
          "output_type": "execute_result",
          "data": {
            "text/plain": [
              "<matplotlib.axes._subplots.AxesSubplot at 0x7fa1c59f0b10>"
            ]
          },
          "metadata": {
            "tags": []
          },
          "execution_count": 448
        },
        {
          "output_type": "display_data",
          "data": {
            "image/png": "[encoded data removed]",
            "text/plain": [
              "<Figure size 432x288 with 1 Axes>"
            ]
          },
          "metadata": {
            "tags": [],
            "needs_background": "light"
          }
        }
      ]
    },
    {
      "cell_type": "markdown",
      "metadata": {
        "id": "udGn8BUV5Q2s"
      },
      "source": [
        "# ***Creating the dummy time series:***\n",
        "Volume shocks : we will be creating a 0/1 dummy-coded boolean time series for shock, based on whether volume traded is 10% higher/lower than previous day. ( 0/1 dummy-coding is for direction of shock)"
      ]
    },
    {
      "cell_type": "code",
      "metadata": {
        "id": "R5SWbzgJ5Mb6"
      },
      "source": [
        "def boolean_shock(percent, df, col):\n",
        "  data = df.filter(['date', col], axis=1) #df.copy()\n",
        "  data.set_index('date', inplace=True)\n",
        "  data['percentchg'] = (data[col].pct_change()) * 100  #percentage change compare to previous volume using pct_change() function\n",
        "  data['shock'] = data['percentchg'].apply(lambda x: 1 if x >= percent else 0)\n",
        "  data.drop(col, axis = 1, inplace = True)\n",
        "  return data.dropna()"
      ],
      "execution_count": 449,
      "outputs": []
    },
    {
      "cell_type": "code",
      "metadata": {
        "colab": {
          "base_uri": "https://localhost:8080/",
          "height": 450
        },
        "id": "bBXTqZL25b0X",
        "outputId": "05e717af-8f19-4da4-ee4c-806176b1938c"
      },
      "source": [
        "boolean_shock(10, bse_data, 'volume')"
      ],
      "execution_count": 450,
      "outputs": [
        {
          "output_type": "execute_result",
          "data": {
            "text/html": [
              "<div>\n",
              "<style scoped>\n",
              "    .dataframe tbody tr th:only-of-type {\n",
              "        vertical-align: middle;\n",
              "    }\n",
              "\n",
              "    .dataframe tbody tr th {\n",
              "        vertical-align: top;\n",
              "    }\n",
              "\n",
              "    .dataframe thead th {\n",
              "        text-align: right;\n",
              "    }\n",
              "</style>\n",
              "<table border=\"1\" class=\"dataframe\">\n",
              "  <thead>\n",
              "    <tr style=\"text-align: right;\">\n",
              "      <th></th>\n",
              "      <th>percentchg</th>\n",
              "      <th>shock</th>\n",
              "    </tr>\n",
              "    <tr>\n",
              "      <th>date</th>\n",
              "      <th></th>\n",
              "      <th></th>\n",
              "    </tr>\n",
              "  </thead>\n",
              "  <tbody>\n",
              "    <tr>\n",
              "      <th>2015-01-05</th>\n",
              "      <td>24.324324</td>\n",
              "      <td>1</td>\n",
              "    </tr>\n",
              "    <tr>\n",
              "      <th>2015-01-06</th>\n",
              "      <td>53.260870</td>\n",
              "      <td>1</td>\n",
              "    </tr>\n",
              "    <tr>\n",
              "      <th>2015-01-07</th>\n",
              "      <td>-13.475177</td>\n",
              "      <td>0</td>\n",
              "    </tr>\n",
              "    <tr>\n",
              "      <th>2015-01-08</th>\n",
              "      <td>-32.786885</td>\n",
              "      <td>0</td>\n",
              "    </tr>\n",
              "    <tr>\n",
              "      <th>2015-01-09</th>\n",
              "      <td>35.365854</td>\n",
              "      <td>1</td>\n",
              "    </tr>\n",
              "    <tr>\n",
              "      <th>...</th>\n",
              "      <td>...</td>\n",
              "      <td>...</td>\n",
              "    </tr>\n",
              "    <tr>\n",
              "      <th>2021-07-05</th>\n",
              "      <td>18.750000</td>\n",
              "      <td>1</td>\n",
              "    </tr>\n",
              "    <tr>\n",
              "      <th>2021-07-06</th>\n",
              "      <td>-7.894737</td>\n",
              "      <td>0</td>\n",
              "    </tr>\n",
              "    <tr>\n",
              "      <th>2021-07-07</th>\n",
              "      <td>14.285714</td>\n",
              "      <td>1</td>\n",
              "    </tr>\n",
              "    <tr>\n",
              "      <th>2021-07-08</th>\n",
              "      <td>-20.000000</td>\n",
              "      <td>0</td>\n",
              "    </tr>\n",
              "    <tr>\n",
              "      <th>2021-07-09</th>\n",
              "      <td>0.000000</td>\n",
              "      <td>0</td>\n",
              "    </tr>\n",
              "  </tbody>\n",
              "</table>\n",
              "<p>1600 rows × 2 columns</p>\n",
              "</div>"
            ],
            "text/plain": [
              "            percentchg  shock\n",
              "date                         \n",
              "2015-01-05   24.324324      1\n",
              "2015-01-06   53.260870      1\n",
              "2015-01-07  -13.475177      0\n",
              "2015-01-08  -32.786885      0\n",
              "2015-01-09   35.365854      1\n",
              "...                ...    ...\n",
              "2021-07-05   18.750000      1\n",
              "2021-07-06   -7.894737      0\n",
              "2021-07-07   14.285714      1\n",
              "2021-07-08  -20.000000      0\n",
              "2021-07-09    0.000000      0\n",
              "\n",
              "[1600 rows x 2 columns]"
            ]
          },
          "metadata": {
            "tags": []
          },
          "execution_count": 450
        }
      ]
    },
    {
      "cell_type": "code",
      "metadata": {
        "id": "CPwp7_BG5ddO"
      },
      "source": [
        "altdata_volpercentchg = boolean_shock(10, bse_data, 'volume')\n",
        "altdata_volpercentchg.reset_index(inplace=True)\n",
        "altdata_volpercentchg.rename(columns={list(altdata_volpercentchg)[0]:'date'}, inplace=True)"
      ],
      "execution_count": 451,
      "outputs": []
    },
    {
      "cell_type": "code",
      "metadata": {
        "id": "olid32dv5g4R"
      },
      "source": [
        "alt.Chart(altdata_volpercentchg).mark_point().encode(\n",
        "    x='date',\n",
        "    y='percentchg'\n",
        ")"
      ],
      "execution_count": null,
      "outputs": []
    },
    {
      "cell_type": "code",
      "metadata": {
        "colab": {
          "base_uri": "https://localhost:8080/",
          "height": 450
        },
        "id": "shYAwbTY5jud",
        "outputId": "50ed9bc4-e68a-47e6-e74c-a5c946d57877"
      },
      "source": [
        "boolean_shock(2, bse_data, 'close')"
      ],
      "execution_count": 453,
      "outputs": [
        {
          "output_type": "execute_result",
          "data": {
            "text/html": [
              "<div>\n",
              "<style scoped>\n",
              "    .dataframe tbody tr th:only-of-type {\n",
              "        vertical-align: middle;\n",
              "    }\n",
              "\n",
              "    .dataframe tbody tr th {\n",
              "        vertical-align: top;\n",
              "    }\n",
              "\n",
              "    .dataframe thead th {\n",
              "        text-align: right;\n",
              "    }\n",
              "</style>\n",
              "<table border=\"1\" class=\"dataframe\">\n",
              "  <thead>\n",
              "    <tr style=\"text-align: right;\">\n",
              "      <th></th>\n",
              "      <th>percentchg</th>\n",
              "      <th>shock</th>\n",
              "    </tr>\n",
              "    <tr>\n",
              "      <th>date</th>\n",
              "      <th></th>\n",
              "      <th></th>\n",
              "    </tr>\n",
              "  </thead>\n",
              "  <tbody>\n",
              "    <tr>\n",
              "      <th>2015-01-05</th>\n",
              "      <td>-0.163440</td>\n",
              "      <td>0</td>\n",
              "    </tr>\n",
              "    <tr>\n",
              "      <th>2015-01-06</th>\n",
              "      <td>-3.070360</td>\n",
              "      <td>0</td>\n",
              "    </tr>\n",
              "    <tr>\n",
              "      <th>2015-01-07</th>\n",
              "      <td>-0.291397</td>\n",
              "      <td>0</td>\n",
              "    </tr>\n",
              "    <tr>\n",
              "      <th>2015-01-08</th>\n",
              "      <td>1.359742</td>\n",
              "      <td>0</td>\n",
              "    </tr>\n",
              "    <tr>\n",
              "      <th>2015-01-09</th>\n",
              "      <td>0.673407</td>\n",
              "      <td>0</td>\n",
              "    </tr>\n",
              "    <tr>\n",
              "      <th>...</th>\n",
              "      <td>...</td>\n",
              "      <td>...</td>\n",
              "    </tr>\n",
              "    <tr>\n",
              "      <th>2021-07-05</th>\n",
              "      <td>0.753226</td>\n",
              "      <td>0</td>\n",
              "    </tr>\n",
              "    <tr>\n",
              "      <th>2021-07-06</th>\n",
              "      <td>-0.035591</td>\n",
              "      <td>0</td>\n",
              "    </tr>\n",
              "    <tr>\n",
              "      <th>2021-07-07</th>\n",
              "      <td>0.366208</td>\n",
              "      <td>0</td>\n",
              "    </tr>\n",
              "    <tr>\n",
              "      <th>2021-07-08</th>\n",
              "      <td>-0.915696</td>\n",
              "      <td>0</td>\n",
              "    </tr>\n",
              "    <tr>\n",
              "      <th>2021-07-09</th>\n",
              "      <td>-0.347639</td>\n",
              "      <td>0</td>\n",
              "    </tr>\n",
              "  </tbody>\n",
              "</table>\n",
              "<p>1600 rows × 2 columns</p>\n",
              "</div>"
            ],
            "text/plain": [
              "            percentchg  shock\n",
              "date                         \n",
              "2015-01-05   -0.163440      0\n",
              "2015-01-06   -3.070360      0\n",
              "2015-01-07   -0.291397      0\n",
              "2015-01-08    1.359742      0\n",
              "2015-01-09    0.673407      0\n",
              "...                ...    ...\n",
              "2021-07-05    0.753226      0\n",
              "2021-07-06   -0.035591      0\n",
              "2021-07-07    0.366208      0\n",
              "2021-07-08   -0.915696      0\n",
              "2021-07-09   -0.347639      0\n",
              "\n",
              "[1600 rows x 2 columns]"
            ]
          },
          "metadata": {
            "tags": []
          },
          "execution_count": 453
        }
      ]
    },
    {
      "cell_type": "code",
      "metadata": {
        "id": "OZGkW1575qaa"
      },
      "source": [
        "altdata_closepercentchg2 = boolean_shock(2, bse_data, 'close')\n",
        "altdata_closepercentchg2.reset_index(inplace=True)\n",
        "altdata_closepercentchg2.rename(columns={list(altdata_closepercentchg2)[0]:'date'}, inplace=True)"
      ],
      "execution_count": 454,
      "outputs": []
    },
    {
      "cell_type": "code",
      "metadata": {
        "id": "WNls6GAJ5tJR"
      },
      "source": [
        "alt.Chart(altdata_closepercentchg2).mark_point().encode(\n",
        "    x='date',\n",
        "    y='percentchg'\n",
        ")"
      ],
      "execution_count": null,
      "outputs": []
    },
    {
      "cell_type": "code",
      "metadata": {
        "colab": {
          "base_uri": "https://localhost:8080/",
          "height": 450
        },
        "id": "MDtfUR-z5ux_",
        "outputId": "9254cbbf-4843-480b-d43a-b5fe0145ec30"
      },
      "source": [
        "boolean_shock(10, bse_data, 'close')"
      ],
      "execution_count": 456,
      "outputs": [
        {
          "output_type": "execute_result",
          "data": {
            "text/html": [
              "<div>\n",
              "<style scoped>\n",
              "    .dataframe tbody tr th:only-of-type {\n",
              "        vertical-align: middle;\n",
              "    }\n",
              "\n",
              "    .dataframe tbody tr th {\n",
              "        vertical-align: top;\n",
              "    }\n",
              "\n",
              "    .dataframe thead th {\n",
              "        text-align: right;\n",
              "    }\n",
              "</style>\n",
              "<table border=\"1\" class=\"dataframe\">\n",
              "  <thead>\n",
              "    <tr style=\"text-align: right;\">\n",
              "      <th></th>\n",
              "      <th>percentchg</th>\n",
              "      <th>shock</th>\n",
              "    </tr>\n",
              "    <tr>\n",
              "      <th>date</th>\n",
              "      <th></th>\n",
              "      <th></th>\n",
              "    </tr>\n",
              "  </thead>\n",
              "  <tbody>\n",
              "    <tr>\n",
              "      <th>2015-01-05</th>\n",
              "      <td>-0.163440</td>\n",
              "      <td>0</td>\n",
              "    </tr>\n",
              "    <tr>\n",
              "      <th>2015-01-06</th>\n",
              "      <td>-3.070360</td>\n",
              "      <td>0</td>\n",
              "    </tr>\n",
              "    <tr>\n",
              "      <th>2015-01-07</th>\n",
              "      <td>-0.291397</td>\n",
              "      <td>0</td>\n",
              "    </tr>\n",
              "    <tr>\n",
              "      <th>2015-01-08</th>\n",
              "      <td>1.359742</td>\n",
              "      <td>0</td>\n",
              "    </tr>\n",
              "    <tr>\n",
              "      <th>2015-01-09</th>\n",
              "      <td>0.673407</td>\n",
              "      <td>0</td>\n",
              "    </tr>\n",
              "    <tr>\n",
              "      <th>...</th>\n",
              "      <td>...</td>\n",
              "      <td>...</td>\n",
              "    </tr>\n",
              "    <tr>\n",
              "      <th>2021-07-05</th>\n",
              "      <td>0.753226</td>\n",
              "      <td>0</td>\n",
              "    </tr>\n",
              "    <tr>\n",
              "      <th>2021-07-06</th>\n",
              "      <td>-0.035591</td>\n",
              "      <td>0</td>\n",
              "    </tr>\n",
              "    <tr>\n",
              "      <th>2021-07-07</th>\n",
              "      <td>0.366208</td>\n",
              "      <td>0</td>\n",
              "    </tr>\n",
              "    <tr>\n",
              "      <th>2021-07-08</th>\n",
              "      <td>-0.915696</td>\n",
              "      <td>0</td>\n",
              "    </tr>\n",
              "    <tr>\n",
              "      <th>2021-07-09</th>\n",
              "      <td>-0.347639</td>\n",
              "      <td>0</td>\n",
              "    </tr>\n",
              "  </tbody>\n",
              "</table>\n",
              "<p>1600 rows × 2 columns</p>\n",
              "</div>"
            ],
            "text/plain": [
              "            percentchg  shock\n",
              "date                         \n",
              "2015-01-05   -0.163440      0\n",
              "2015-01-06   -3.070360      0\n",
              "2015-01-07   -0.291397      0\n",
              "2015-01-08    1.359742      0\n",
              "2015-01-09    0.673407      0\n",
              "...                ...    ...\n",
              "2021-07-05    0.753226      0\n",
              "2021-07-06   -0.035591      0\n",
              "2021-07-07    0.366208      0\n",
              "2021-07-08   -0.915696      0\n",
              "2021-07-09   -0.347639      0\n",
              "\n",
              "[1600 rows x 2 columns]"
            ]
          },
          "metadata": {
            "tags": []
          },
          "execution_count": 456
        }
      ]
    },
    {
      "cell_type": "code",
      "metadata": {
        "id": "rn0Zs11-5yj_"
      },
      "source": [
        "altdata_closepercentchg10 = boolean_shock(10, bse_data, 'close')\n",
        "altdata_closepercentchg10.reset_index(inplace=True)\n",
        "altdata_closepercentchg10.rename(columns={list(altdata_closepercentchg10)[0]:'date'}, inplace=True)"
      ],
      "execution_count": 457,
      "outputs": []
    },
    {
      "cell_type": "code",
      "metadata": {
        "id": "jtNAs5CB51Xc"
      },
      "source": [
        "alt.Chart(altdata_closepercentchg10).mark_point().encode(\n",
        "    x='date',\n",
        "    y='percentchg'\n",
        ")"
      ],
      "execution_count": null,
      "outputs": []
    },
    {
      "cell_type": "markdown",
      "metadata": {
        "id": "XIcVV4W258MD"
      },
      "source": [
        "# ***Pricing shock without volume shock***"
      ]
    },
    {
      "cell_type": "code",
      "metadata": {
        "id": "b48rPYP1525R"
      },
      "source": [
        "def priceboolean_shock(percent, df):\n",
        "  df['date'] = pd.to_datetime(df['date'])\n",
        "  data = df.filter(['date', 'high', 'low','close'], axis=1) #df.copy()\n",
        "  data.set_index('date', inplace=True)\n",
        "  data['priceavg'] = (data['high'] + data['low'] + data['close']) / 3\n",
        "  data['shock'] = (data['priceavg'].pct_change()) * 100\n",
        "  data['shock'] = data['shock'].apply(lambda x: 1 if x >= percent else 0)\n",
        "  data.drop(['high', 'low', 'close'], axis = 1, inplace = True)\n",
        "  return data"
      ],
      "execution_count": 459,
      "outputs": []
    },
    {
      "cell_type": "code",
      "metadata": {
        "colab": {
          "base_uri": "https://localhost:8080/",
          "height": 450
        },
        "id": "Cjl9kBCn6Cjv",
        "outputId": "ac499073-c886-481c-9a4d-da9968585e3b"
      },
      "source": [
        "priceboolean_shock(10, bse_data)"
      ],
      "execution_count": 460,
      "outputs": [
        {
          "output_type": "execute_result",
          "data": {
            "text/html": [
              "<div>\n",
              "<style scoped>\n",
              "    .dataframe tbody tr th:only-of-type {\n",
              "        vertical-align: middle;\n",
              "    }\n",
              "\n",
              "    .dataframe tbody tr th {\n",
              "        vertical-align: top;\n",
              "    }\n",
              "\n",
              "    .dataframe thead th {\n",
              "        text-align: right;\n",
              "    }\n",
              "</style>\n",
              "<table border=\"1\" class=\"dataframe\">\n",
              "  <thead>\n",
              "    <tr style=\"text-align: right;\">\n",
              "      <th></th>\n",
              "      <th>priceavg</th>\n",
              "      <th>shock</th>\n",
              "    </tr>\n",
              "    <tr>\n",
              "      <th>date</th>\n",
              "      <th></th>\n",
              "      <th></th>\n",
              "    </tr>\n",
              "  </thead>\n",
              "  <tbody>\n",
              "    <tr>\n",
              "      <th>2015-01-02</th>\n",
              "      <td>27781.543620</td>\n",
              "      <td>0</td>\n",
              "    </tr>\n",
              "    <tr>\n",
              "      <th>2015-01-05</th>\n",
              "      <td>27897.886719</td>\n",
              "      <td>0</td>\n",
              "    </tr>\n",
              "    <tr>\n",
              "      <th>2015-01-06</th>\n",
              "      <td>27207.817057</td>\n",
              "      <td>0</td>\n",
              "    </tr>\n",
              "    <tr>\n",
              "      <th>2015-01-07</th>\n",
              "      <td>26912.179688</td>\n",
              "      <td>0</td>\n",
              "    </tr>\n",
              "    <tr>\n",
              "      <th>2015-01-08</th>\n",
              "      <td>27231.020182</td>\n",
              "      <td>0</td>\n",
              "    </tr>\n",
              "    <tr>\n",
              "      <th>...</th>\n",
              "      <td>...</td>\n",
              "      <td>...</td>\n",
              "    </tr>\n",
              "    <tr>\n",
              "      <th>2021-07-05</th>\n",
              "      <td>52801.174479</td>\n",
              "      <td>0</td>\n",
              "    </tr>\n",
              "    <tr>\n",
              "      <th>2021-07-06</th>\n",
              "      <td>52931.576823</td>\n",
              "      <td>0</td>\n",
              "    </tr>\n",
              "    <tr>\n",
              "      <th>2021-07-07</th>\n",
              "      <td>52970.644531</td>\n",
              "      <td>0</td>\n",
              "    </tr>\n",
              "    <tr>\n",
              "      <th>2021-07-08</th>\n",
              "      <td>52700.270833</td>\n",
              "      <td>0</td>\n",
              "    </tr>\n",
              "    <tr>\n",
              "      <th>2021-07-09</th>\n",
              "      <td>52389.977865</td>\n",
              "      <td>0</td>\n",
              "    </tr>\n",
              "  </tbody>\n",
              "</table>\n",
              "<p>1601 rows × 2 columns</p>\n",
              "</div>"
            ],
            "text/plain": [
              "                priceavg  shock\n",
              "date                           \n",
              "2015-01-02  27781.543620      0\n",
              "2015-01-05  27897.886719      0\n",
              "2015-01-06  27207.817057      0\n",
              "2015-01-07  26912.179688      0\n",
              "2015-01-08  27231.020182      0\n",
              "...                  ...    ...\n",
              "2021-07-05  52801.174479      0\n",
              "2021-07-06  52931.576823      0\n",
              "2021-07-07  52970.644531      0\n",
              "2021-07-08  52700.270833      0\n",
              "2021-07-09  52389.977865      0\n",
              "\n",
              "[1601 rows x 2 columns]"
            ]
          },
          "metadata": {
            "tags": []
          },
          "execution_count": 460
        }
      ]
    },
    {
      "cell_type": "code",
      "metadata": {
        "id": "FSwWpQPy6FgB"
      },
      "source": [
        "altdata_pricepercentchg = priceboolean_shock(10, bse_data)\n",
        "altdata_pricepercentchg.reset_index(inplace=True)\n",
        "altdata_pricepercentchg.rename(columns={list(altdata_pricepercentchg)[0]:'date'}, inplace=True)"
      ],
      "execution_count": 461,
      "outputs": []
    },
    {
      "cell_type": "code",
      "metadata": {
        "id": "KzqYvv7v6H4b"
      },
      "source": [
        "alt.Chart(altdata_pricepercentchg).mark_point().encode(\n",
        "    x='date',\n",
        "    y='priceavg'\n",
        ")"
      ],
      "execution_count": null,
      "outputs": []
    },
    {
      "cell_type": "markdown",
      "metadata": {
        "id": "bHQDj-R06NGX"
      },
      "source": [
        "# ***Creating the reverse dummy time series:***"
      ]
    },
    {
      "cell_type": "code",
      "metadata": {
        "id": "wBJKZ9ei6KJ6"
      },
      "source": [
        "def reverseboolean_shock(percent, df, col):\n",
        "  data = df.filter(['date', col], axis=1) #df.copy()\n",
        "  data.set_index('date', inplace=True)\n",
        "  data = data.reindex(index=data.index[::-1])\n",
        "  data['percentchg'] = (data[col].pct_change()) * 100\n",
        "  data['shock'] = data['percentchg'].apply(lambda x: 1 if x > percent else 0)\n",
        "  data.drop(col, axis = 1, inplace = True)\n",
        "  data = data.reindex(index=data.index[::-1])\n",
        "  return data.dropna()"
      ],
      "execution_count": 463,
      "outputs": []
    },
    {
      "cell_type": "code",
      "metadata": {
        "colab": {
          "base_uri": "https://localhost:8080/",
          "height": 450
        },
        "id": "i0wY5r-Y6UKC",
        "outputId": "13b44153-c971-4b5d-a16b-76b1dd660e39"
      },
      "source": [
        "reverseboolean_shock(2, bse_data, 'close')"
      ],
      "execution_count": 464,
      "outputs": [
        {
          "output_type": "execute_result",
          "data": {
            "text/html": [
              "<div>\n",
              "<style scoped>\n",
              "    .dataframe tbody tr th:only-of-type {\n",
              "        vertical-align: middle;\n",
              "    }\n",
              "\n",
              "    .dataframe tbody tr th {\n",
              "        vertical-align: top;\n",
              "    }\n",
              "\n",
              "    .dataframe thead th {\n",
              "        text-align: right;\n",
              "    }\n",
              "</style>\n",
              "<table border=\"1\" class=\"dataframe\">\n",
              "  <thead>\n",
              "    <tr style=\"text-align: right;\">\n",
              "      <th></th>\n",
              "      <th>percentchg</th>\n",
              "      <th>shock</th>\n",
              "    </tr>\n",
              "    <tr>\n",
              "      <th>date</th>\n",
              "      <th></th>\n",
              "      <th></th>\n",
              "    </tr>\n",
              "  </thead>\n",
              "  <tbody>\n",
              "    <tr>\n",
              "      <th>2015-01-02</th>\n",
              "      <td>0.163708</td>\n",
              "      <td>0</td>\n",
              "    </tr>\n",
              "    <tr>\n",
              "      <th>2015-01-05</th>\n",
              "      <td>3.167617</td>\n",
              "      <td>1</td>\n",
              "    </tr>\n",
              "    <tr>\n",
              "      <th>2015-01-06</th>\n",
              "      <td>0.292249</td>\n",
              "      <td>0</td>\n",
              "    </tr>\n",
              "    <tr>\n",
              "      <th>2015-01-07</th>\n",
              "      <td>-1.341501</td>\n",
              "      <td>0</td>\n",
              "    </tr>\n",
              "    <tr>\n",
              "      <th>2015-01-08</th>\n",
              "      <td>-0.668903</td>\n",
              "      <td>0</td>\n",
              "    </tr>\n",
              "    <tr>\n",
              "      <th>...</th>\n",
              "      <td>...</td>\n",
              "      <td>...</td>\n",
              "    </tr>\n",
              "    <tr>\n",
              "      <th>2021-07-02</th>\n",
              "      <td>-0.747595</td>\n",
              "      <td>0</td>\n",
              "    </tr>\n",
              "    <tr>\n",
              "      <th>2021-07-05</th>\n",
              "      <td>0.035603</td>\n",
              "      <td>0</td>\n",
              "    </tr>\n",
              "    <tr>\n",
              "      <th>2021-07-06</th>\n",
              "      <td>-0.364872</td>\n",
              "      <td>0</td>\n",
              "    </tr>\n",
              "    <tr>\n",
              "      <th>2021-07-07</th>\n",
              "      <td>0.924158</td>\n",
              "      <td>0</td>\n",
              "    </tr>\n",
              "    <tr>\n",
              "      <th>2021-07-08</th>\n",
              "      <td>0.348851</td>\n",
              "      <td>0</td>\n",
              "    </tr>\n",
              "  </tbody>\n",
              "</table>\n",
              "<p>1600 rows × 2 columns</p>\n",
              "</div>"
            ],
            "text/plain": [
              "            percentchg  shock\n",
              "date                         \n",
              "2015-01-02    0.163708      0\n",
              "2015-01-05    3.167617      1\n",
              "2015-01-06    0.292249      0\n",
              "2015-01-07   -1.341501      0\n",
              "2015-01-08   -0.668903      0\n",
              "...                ...    ...\n",
              "2021-07-02   -0.747595      0\n",
              "2021-07-05    0.035603      0\n",
              "2021-07-06   -0.364872      0\n",
              "2021-07-07    0.924158      0\n",
              "2021-07-08    0.348851      0\n",
              "\n",
              "[1600 rows x 2 columns]"
            ]
          },
          "metadata": {
            "tags": []
          },
          "execution_count": 464
        }
      ]
    },
    {
      "cell_type": "code",
      "metadata": {
        "id": "uFEgr4qB6WYa"
      },
      "source": [
        "altdata_closepercentchg = reverseboolean_shock(2, bse_data, 'close')\n",
        "altdata_closepercentchg.reset_index(inplace=True)\n",
        "altdata_closepercentchg.rename(columns={list(altdata_closepercentchg)[0]:'date'}, inplace=True)"
      ],
      "execution_count": 465,
      "outputs": []
    },
    {
      "cell_type": "code",
      "metadata": {
        "id": "WyPTuFtV6aFp"
      },
      "source": [
        "alt.Chart(altdata_closepercentchg).mark_point().encode(\n",
        "    x='date',\n",
        "    y='percentchg'\n",
        ")"
      ],
      "execution_count": null,
      "outputs": []
    },
    {
      "cell_type": "code",
      "metadata": {
        "colab": {
          "base_uri": "https://localhost:8080/",
          "height": 450
        },
        "id": "_MS6qWiA6caB",
        "outputId": "f595dd70-836d-4731-fb6d-0f478c108278"
      },
      "source": [
        "reverseboolean_shock(5, bse_data, 'close')"
      ],
      "execution_count": 467,
      "outputs": [
        {
          "output_type": "execute_result",
          "data": {
            "text/html": [
              "<div>\n",
              "<style scoped>\n",
              "    .dataframe tbody tr th:only-of-type {\n",
              "        vertical-align: middle;\n",
              "    }\n",
              "\n",
              "    .dataframe tbody tr th {\n",
              "        vertical-align: top;\n",
              "    }\n",
              "\n",
              "    .dataframe thead th {\n",
              "        text-align: right;\n",
              "    }\n",
              "</style>\n",
              "<table border=\"1\" class=\"dataframe\">\n",
              "  <thead>\n",
              "    <tr style=\"text-align: right;\">\n",
              "      <th></th>\n",
              "      <th>percentchg</th>\n",
              "      <th>shock</th>\n",
              "    </tr>\n",
              "    <tr>\n",
              "      <th>date</th>\n",
              "      <th></th>\n",
              "      <th></th>\n",
              "    </tr>\n",
              "  </thead>\n",
              "  <tbody>\n",
              "    <tr>\n",
              "      <th>2015-01-02</th>\n",
              "      <td>0.163708</td>\n",
              "      <td>0</td>\n",
              "    </tr>\n",
              "    <tr>\n",
              "      <th>2015-01-05</th>\n",
              "      <td>3.167617</td>\n",
              "      <td>0</td>\n",
              "    </tr>\n",
              "    <tr>\n",
              "      <th>2015-01-06</th>\n",
              "      <td>0.292249</td>\n",
              "      <td>0</td>\n",
              "    </tr>\n",
              "    <tr>\n",
              "      <th>2015-01-07</th>\n",
              "      <td>-1.341501</td>\n",
              "      <td>0</td>\n",
              "    </tr>\n",
              "    <tr>\n",
              "      <th>2015-01-08</th>\n",
              "      <td>-0.668903</td>\n",
              "      <td>0</td>\n",
              "    </tr>\n",
              "    <tr>\n",
              "      <th>...</th>\n",
              "      <td>...</td>\n",
              "      <td>...</td>\n",
              "    </tr>\n",
              "    <tr>\n",
              "      <th>2021-07-02</th>\n",
              "      <td>-0.747595</td>\n",
              "      <td>0</td>\n",
              "    </tr>\n",
              "    <tr>\n",
              "      <th>2021-07-05</th>\n",
              "      <td>0.035603</td>\n",
              "      <td>0</td>\n",
              "    </tr>\n",
              "    <tr>\n",
              "      <th>2021-07-06</th>\n",
              "      <td>-0.364872</td>\n",
              "      <td>0</td>\n",
              "    </tr>\n",
              "    <tr>\n",
              "      <th>2021-07-07</th>\n",
              "      <td>0.924158</td>\n",
              "      <td>0</td>\n",
              "    </tr>\n",
              "    <tr>\n",
              "      <th>2021-07-08</th>\n",
              "      <td>0.348851</td>\n",
              "      <td>0</td>\n",
              "    </tr>\n",
              "  </tbody>\n",
              "</table>\n",
              "<p>1600 rows × 2 columns</p>\n",
              "</div>"
            ],
            "text/plain": [
              "            percentchg  shock\n",
              "date                         \n",
              "2015-01-02    0.163708      0\n",
              "2015-01-05    3.167617      0\n",
              "2015-01-06    0.292249      0\n",
              "2015-01-07   -1.341501      0\n",
              "2015-01-08   -0.668903      0\n",
              "...                ...    ...\n",
              "2021-07-02   -0.747595      0\n",
              "2021-07-05    0.035603      0\n",
              "2021-07-06   -0.364872      0\n",
              "2021-07-07    0.924158      0\n",
              "2021-07-08    0.348851      0\n",
              "\n",
              "[1600 rows x 2 columns]"
            ]
          },
          "metadata": {
            "tags": []
          },
          "execution_count": 467
        }
      ]
    },
    {
      "cell_type": "code",
      "metadata": {
        "id": "a80iU2Zp6h3Y"
      },
      "source": [
        "altdata_closepercentchg5 = reverseboolean_shock(5, bse_data, 'close')\n",
        "altdata_closepercentchg5.reset_index(inplace=True)\n",
        "altdata_closepercentchg5.rename(columns={list(altdata_closepercentchg5)[0]:'date'}, inplace=True)"
      ],
      "execution_count": 468,
      "outputs": []
    },
    {
      "cell_type": "code",
      "metadata": {
        "id": "apLmIWbg6krB"
      },
      "source": [
        "alt.Chart(altdata_closepercentchg5).mark_point().encode(\n",
        "    x='date',\n",
        "    y='percentchg'\n",
        ")"
      ],
      "execution_count": null,
      "outputs": []
    },
    {
      "cell_type": "code",
      "metadata": {
        "id": "Ew8f80DK6mjh"
      },
      "source": [
        "def pricereverseboolean_shock(percent, df):\n",
        "  data = df.filter(['date', 'high', 'low','close'], axis=1) #df.copy()\n",
        "  data.set_index('date', inplace=True)\n",
        "  data = data.reindex(index=data.index[::-1])\n",
        "  data['reversepriceavg'] = (data['high'] + data['low'] + data['close']) / 3\n",
        "  data['shock'] = (data['reversepriceavg'].pct_change()) * 100\n",
        "  data['shock'] = data['shock'].apply(lambda x: 1 if x >= percent else 0)\n",
        "  data.drop(['high', 'low', 'close'], axis = 1, inplace = True)\n",
        "  data = data.reindex(index=data.index[::-1])\n",
        "  return data.dropna()"
      ],
      "execution_count": 470,
      "outputs": []
    },
    {
      "cell_type": "code",
      "metadata": {
        "colab": {
          "base_uri": "https://localhost:8080/",
          "height": 450
        },
        "id": "cjl5mEx76pzm",
        "outputId": "b61ef285-4152-48b8-8d6e-cc28e36a0519"
      },
      "source": [
        "pricereverseboolean_shock(2, bse_data)"
      ],
      "execution_count": 471,
      "outputs": [
        {
          "output_type": "execute_result",
          "data": {
            "text/html": [
              "<div>\n",
              "<style scoped>\n",
              "    .dataframe tbody tr th:only-of-type {\n",
              "        vertical-align: middle;\n",
              "    }\n",
              "\n",
              "    .dataframe tbody tr th {\n",
              "        vertical-align: top;\n",
              "    }\n",
              "\n",
              "    .dataframe thead th {\n",
              "        text-align: right;\n",
              "    }\n",
              "</style>\n",
              "<table border=\"1\" class=\"dataframe\">\n",
              "  <thead>\n",
              "    <tr style=\"text-align: right;\">\n",
              "      <th></th>\n",
              "      <th>reversepriceavg</th>\n",
              "      <th>shock</th>\n",
              "    </tr>\n",
              "    <tr>\n",
              "      <th>date</th>\n",
              "      <th></th>\n",
              "      <th></th>\n",
              "    </tr>\n",
              "  </thead>\n",
              "  <tbody>\n",
              "    <tr>\n",
              "      <th>2015-01-02</th>\n",
              "      <td>27781.543620</td>\n",
              "      <td>0</td>\n",
              "    </tr>\n",
              "    <tr>\n",
              "      <th>2015-01-05</th>\n",
              "      <td>27897.886719</td>\n",
              "      <td>1</td>\n",
              "    </tr>\n",
              "    <tr>\n",
              "      <th>2015-01-06</th>\n",
              "      <td>27207.817057</td>\n",
              "      <td>0</td>\n",
              "    </tr>\n",
              "    <tr>\n",
              "      <th>2015-01-07</th>\n",
              "      <td>26912.179688</td>\n",
              "      <td>0</td>\n",
              "    </tr>\n",
              "    <tr>\n",
              "      <th>2015-01-08</th>\n",
              "      <td>27231.020182</td>\n",
              "      <td>0</td>\n",
              "    </tr>\n",
              "    <tr>\n",
              "      <th>...</th>\n",
              "      <td>...</td>\n",
              "      <td>...</td>\n",
              "    </tr>\n",
              "    <tr>\n",
              "      <th>2021-07-05</th>\n",
              "      <td>52801.174479</td>\n",
              "      <td>0</td>\n",
              "    </tr>\n",
              "    <tr>\n",
              "      <th>2021-07-06</th>\n",
              "      <td>52931.576823</td>\n",
              "      <td>0</td>\n",
              "    </tr>\n",
              "    <tr>\n",
              "      <th>2021-07-07</th>\n",
              "      <td>52970.644531</td>\n",
              "      <td>0</td>\n",
              "    </tr>\n",
              "    <tr>\n",
              "      <th>2021-07-08</th>\n",
              "      <td>52700.270833</td>\n",
              "      <td>0</td>\n",
              "    </tr>\n",
              "    <tr>\n",
              "      <th>2021-07-09</th>\n",
              "      <td>52389.977865</td>\n",
              "      <td>0</td>\n",
              "    </tr>\n",
              "  </tbody>\n",
              "</table>\n",
              "<p>1601 rows × 2 columns</p>\n",
              "</div>"
            ],
            "text/plain": [
              "            reversepriceavg  shock\n",
              "date                              \n",
              "2015-01-02     27781.543620      0\n",
              "2015-01-05     27897.886719      1\n",
              "2015-01-06     27207.817057      0\n",
              "2015-01-07     26912.179688      0\n",
              "2015-01-08     27231.020182      0\n",
              "...                     ...    ...\n",
              "2021-07-05     52801.174479      0\n",
              "2021-07-06     52931.576823      0\n",
              "2021-07-07     52970.644531      0\n",
              "2021-07-08     52700.270833      0\n",
              "2021-07-09     52389.977865      0\n",
              "\n",
              "[1601 rows x 2 columns]"
            ]
          },
          "metadata": {
            "tags": []
          },
          "execution_count": 471
        }
      ]
    },
    {
      "cell_type": "code",
      "metadata": {
        "id": "d08EnfCu6rea"
      },
      "source": [
        "altdata_reversepricepercentchg = pricereverseboolean_shock(2, bse_data)\n",
        "altdata_reversepricepercentchg.reset_index(inplace=True)\n",
        "altdata_reversepricepercentchg.rename(columns={list(altdata_reversepricepercentchg)[0]:'date'}, inplace=True)"
      ],
      "execution_count": 472,
      "outputs": []
    },
    {
      "cell_type": "code",
      "metadata": {
        "id": "5Jb75Vq369J9"
      },
      "source": [
        "alt.Chart(altdata_reversepricepercentchg).mark_point().encode(\n",
        "    x='date',\n",
        "    y='reversepriceavg'\n",
        ")"
      ],
      "execution_count": null,
      "outputs": []
    },
    {
      "cell_type": "markdown",
      "metadata": {
        "id": "TpIaFCSw7Cwn"
      },
      "source": [
        "# ***Textual Analysis of news from Times of India News Headlines***"
      ]
    },
    {
      "cell_type": "code",
      "metadata": {
        "id": "KSgso4eJ6--Z"
      },
      "source": [
        "#reading the uploaded csv file and assigning to news variable\n",
        "news  = pd.read_csv('india-news-headlines.csv')"
      ],
      "execution_count": 474,
      "outputs": []
    },
    {
      "cell_type": "code",
      "metadata": {
        "colab": {
          "base_uri": "https://localhost:8080/"
        },
        "id": "366A3JE67NU_",
        "outputId": "b23625a7-c424-4761-af4d-b87a92fcfa1e"
      },
      "source": [
        "news.columns"
      ],
      "execution_count": 475,
      "outputs": [
        {
          "output_type": "execute_result",
          "data": {
            "text/plain": [
              "Index(['publish_date', 'headline_category', 'headline_text'], dtype='object')"
            ]
          },
          "metadata": {
            "tags": []
          },
          "execution_count": 475
        }
      ]
    },
    {
      "cell_type": "code",
      "metadata": {
        "colab": {
          "base_uri": "https://localhost:8080/"
        },
        "id": "g1uEqOQ07Pnv",
        "outputId": "0e434e8f-67ad-433e-f854-0399687a9085"
      },
      "source": [
        "news.shape"
      ],
      "execution_count": 476,
      "outputs": [
        {
          "output_type": "execute_result",
          "data": {
            "text/plain": [
              "(3424067, 3)"
            ]
          },
          "metadata": {
            "tags": []
          },
          "execution_count": 476
        }
      ]
    },
    {
      "cell_type": "code",
      "metadata": {
        "colab": {
          "base_uri": "https://localhost:8080/",
          "height": 204
        },
        "id": "RHwNTjkt7Zsc",
        "outputId": "84e4827e-c56c-4113-dd0b-3d18b5a58da7"
      },
      "source": [
        "news.head()"
      ],
      "execution_count": 477,
      "outputs": [
        {
          "output_type": "execute_result",
          "data": {
            "text/html": [
              "<div>\n",
              "<style scoped>\n",
              "    .dataframe tbody tr th:only-of-type {\n",
              "        vertical-align: middle;\n",
              "    }\n",
              "\n",
              "    .dataframe tbody tr th {\n",
              "        vertical-align: top;\n",
              "    }\n",
              "\n",
              "    .dataframe thead th {\n",
              "        text-align: right;\n",
              "    }\n",
              "</style>\n",
              "<table border=\"1\" class=\"dataframe\">\n",
              "  <thead>\n",
              "    <tr style=\"text-align: right;\">\n",
              "      <th></th>\n",
              "      <th>publish_date</th>\n",
              "      <th>headline_category</th>\n",
              "      <th>headline_text</th>\n",
              "    </tr>\n",
              "  </thead>\n",
              "  <tbody>\n",
              "    <tr>\n",
              "      <th>0</th>\n",
              "      <td>20010102</td>\n",
              "      <td>unknown</td>\n",
              "      <td>Status quo will not be disturbed at Ayodhya; s...</td>\n",
              "    </tr>\n",
              "    <tr>\n",
              "      <th>1</th>\n",
              "      <td>20010102</td>\n",
              "      <td>unknown</td>\n",
              "      <td>Fissures in Hurriyat over Pak visit</td>\n",
              "    </tr>\n",
              "    <tr>\n",
              "      <th>2</th>\n",
              "      <td>20010102</td>\n",
              "      <td>unknown</td>\n",
              "      <td>America's unwanted heading for India?</td>\n",
              "    </tr>\n",
              "    <tr>\n",
              "      <th>3</th>\n",
              "      <td>20010102</td>\n",
              "      <td>unknown</td>\n",
              "      <td>For bigwigs; it is destination Goa</td>\n",
              "    </tr>\n",
              "    <tr>\n",
              "      <th>4</th>\n",
              "      <td>20010102</td>\n",
              "      <td>unknown</td>\n",
              "      <td>Extra buses to clear tourist traffic</td>\n",
              "    </tr>\n",
              "  </tbody>\n",
              "</table>\n",
              "</div>"
            ],
            "text/plain": [
              "   publish_date  ...                                      headline_text\n",
              "0      20010102  ...  Status quo will not be disturbed at Ayodhya; s...\n",
              "1      20010102  ...                Fissures in Hurriyat over Pak visit\n",
              "2      20010102  ...              America's unwanted heading for India?\n",
              "3      20010102  ...                 For bigwigs; it is destination Goa\n",
              "4      20010102  ...               Extra buses to clear tourist traffic\n",
              "\n",
              "[5 rows x 3 columns]"
            ]
          },
          "metadata": {
            "tags": []
          },
          "execution_count": 477
        }
      ]
    },
    {
      "cell_type": "code",
      "metadata": {
        "id": "JIA-H5AZ7cG6"
      },
      "source": [
        "#converting publish_date column to \n",
        "news['publish_date'] = pd.to_datetime(news['publish_date'], format = '%Y%m%d')"
      ],
      "execution_count": 478,
      "outputs": []
    },
    {
      "cell_type": "code",
      "metadata": {
        "colab": {
          "base_uri": "https://localhost:8080/",
          "height": 204
        },
        "id": "3VUPrQDQ7hQ9",
        "outputId": "bedc77cc-a9ac-4db6-ed27-a8583ac163f2"
      },
      "source": [
        "#first 5 rows content of the dataset\n",
        "news.head()"
      ],
      "execution_count": 479,
      "outputs": [
        {
          "output_type": "execute_result",
          "data": {
            "text/html": [
              "<div>\n",
              "<style scoped>\n",
              "    .dataframe tbody tr th:only-of-type {\n",
              "        vertical-align: middle;\n",
              "    }\n",
              "\n",
              "    .dataframe tbody tr th {\n",
              "        vertical-align: top;\n",
              "    }\n",
              "\n",
              "    .dataframe thead th {\n",
              "        text-align: right;\n",
              "    }\n",
              "</style>\n",
              "<table border=\"1\" class=\"dataframe\">\n",
              "  <thead>\n",
              "    <tr style=\"text-align: right;\">\n",
              "      <th></th>\n",
              "      <th>publish_date</th>\n",
              "      <th>headline_category</th>\n",
              "      <th>headline_text</th>\n",
              "    </tr>\n",
              "  </thead>\n",
              "  <tbody>\n",
              "    <tr>\n",
              "      <th>0</th>\n",
              "      <td>2001-01-02</td>\n",
              "      <td>unknown</td>\n",
              "      <td>Status quo will not be disturbed at Ayodhya; s...</td>\n",
              "    </tr>\n",
              "    <tr>\n",
              "      <th>1</th>\n",
              "      <td>2001-01-02</td>\n",
              "      <td>unknown</td>\n",
              "      <td>Fissures in Hurriyat over Pak visit</td>\n",
              "    </tr>\n",
              "    <tr>\n",
              "      <th>2</th>\n",
              "      <td>2001-01-02</td>\n",
              "      <td>unknown</td>\n",
              "      <td>America's unwanted heading for India?</td>\n",
              "    </tr>\n",
              "    <tr>\n",
              "      <th>3</th>\n",
              "      <td>2001-01-02</td>\n",
              "      <td>unknown</td>\n",
              "      <td>For bigwigs; it is destination Goa</td>\n",
              "    </tr>\n",
              "    <tr>\n",
              "      <th>4</th>\n",
              "      <td>2001-01-02</td>\n",
              "      <td>unknown</td>\n",
              "      <td>Extra buses to clear tourist traffic</td>\n",
              "    </tr>\n",
              "  </tbody>\n",
              "</table>\n",
              "</div>"
            ],
            "text/plain": [
              "  publish_date  ...                                      headline_text\n",
              "0   2001-01-02  ...  Status quo will not be disturbed at Ayodhya; s...\n",
              "1   2001-01-02  ...                Fissures in Hurriyat over Pak visit\n",
              "2   2001-01-02  ...              America's unwanted heading for India?\n",
              "3   2001-01-02  ...                 For bigwigs; it is destination Goa\n",
              "4   2001-01-02  ...               Extra buses to clear tourist traffic\n",
              "\n",
              "[5 rows x 3 columns]"
            ]
          },
          "metadata": {
            "tags": []
          },
          "execution_count": 479
        }
      ]
    },
    {
      "cell_type": "code",
      "metadata": {
        "colab": {
          "base_uri": "https://localhost:8080/"
        },
        "id": "o6aA7P0J7kzZ",
        "outputId": "bf699c31-642b-431e-f9a7-a9b8f592edc8"
      },
      "source": [
        "news.info()"
      ],
      "execution_count": 480,
      "outputs": [
        {
          "output_type": "stream",
          "text": [
            "<class 'pandas.core.frame.DataFrame'>\n",
            "RangeIndex: 3424067 entries, 0 to 3424066\n",
            "Data columns (total 3 columns):\n",
            " #   Column             Dtype         \n",
            "---  ------             -----         \n",
            " 0   publish_date       datetime64[ns]\n",
            " 1   headline_category  object        \n",
            " 2   headline_text      object        \n",
            "dtypes: datetime64[ns](1), object(2)\n",
            "memory usage: 78.4+ MB\n"
          ],
          "name": "stdout"
        }
      ]
    },
    {
      "cell_type": "code",
      "metadata": {
        "colab": {
          "base_uri": "https://localhost:8080/"
        },
        "id": "vhv5O-L07q1q",
        "outputId": "7aa506e0-622e-47ef-f5ed-e07775d7e48b"
      },
      "source": [
        "#finding unique values in headline_category\n",
        "news['headline_category'].unique()"
      ],
      "execution_count": 481,
      "outputs": [
        {
          "output_type": "execute_result",
          "data": {
            "text/plain": [
              "array(['unknown', 'entertainment.hindi.bollywood', 'india', ...,\n",
              "       'elections.assembly-elections.bihar',\n",
              "       'astrology.horoscope.monthly', 'astrology.numerology-tarot'],\n",
              "      dtype=object)"
            ]
          },
          "metadata": {
            "tags": []
          },
          "execution_count": 481
        }
      ]
    },
    {
      "cell_type": "code",
      "metadata": {
        "colab": {
          "base_uri": "https://localhost:8080/"
        },
        "id": "BsY7P9H97s4_",
        "outputId": "58df1b63-0f09-49bb-ad69-af47e6b3b17b"
      },
      "source": [
        "#checking all the values count (unique values total count)\n",
        "news['headline_category'].value_counts()"
      ],
      "execution_count": 482,
      "outputs": [
        {
          "output_type": "execute_result",
          "data": {
            "text/plain": [
              "india                                              288541\n",
              "unknown                                            209582\n",
              "city.mumbai                                        134428\n",
              "city.delhi                                         127717\n",
              "business.india-business                            116761\n",
              "                                                    ...  \n",
              "young-turks                                             8\n",
              "elections.lok-sabha-elections-2019.tripura.news         8\n",
              "preeti-shenoy                                           8\n",
              "business.mf-simplified.faq                              8\n",
              "sports.hockey.hockey-world-cup-2014                     8\n",
              "Name: headline_category, Length: 1013, dtype: int64"
            ]
          },
          "metadata": {
            "tags": []
          },
          "execution_count": 482
        }
      ]
    },
    {
      "cell_type": "code",
      "metadata": {
        "colab": {
          "base_uri": "https://localhost:8080/"
        },
        "id": "CN1ggX3U704D",
        "outputId": "1bdf4784-f86f-4a56-b1cd-4199833881c1"
      },
      "source": [
        "#total unique values count\n",
        "news['headline_category'].value_counts().count()"
      ],
      "execution_count": 483,
      "outputs": [
        {
          "output_type": "execute_result",
          "data": {
            "text/plain": [
              "1013"
            ]
          },
          "metadata": {
            "tags": []
          },
          "execution_count": 483
        }
      ]
    },
    {
      "cell_type": "code",
      "metadata": {
        "colab": {
          "base_uri": "https://localhost:8080/"
        },
        "id": "39vmosix73Qf",
        "outputId": "a05c79c3-e579-4fdb-b6dd-4a92b29e72b9"
      },
      "source": [
        "#checking all the values count (unique values total count)\n",
        "news['headline_text'].value_counts()"
      ],
      "execution_count": 484,
      "outputs": [
        {
          "output_type": "execute_result",
          "data": {
            "text/plain": [
              "Straight Answers                                                              6723\n",
              "Cartoons                                                                      1536\n",
              "Straight answers                                                              1500\n",
              "Photogallery                                                                  1353\n",
              "Your say                                                                      1012\n",
              "                                                                              ... \n",
              "Chinese flood Taiwan president-elect's Facebook; demanding return to China       1\n",
              "Four held for realty fraud and forgery                                           1\n",
              "Songs saluting women's life warm up the heart                                    1\n",
              "Vijayakanth says he is in control of party; to begin state tour                  1\n",
              "HSLC toppers want to study engg; medicine                                        1\n",
              "Name: headline_text, Length: 3168800, dtype: int64"
            ]
          },
          "metadata": {
            "tags": []
          },
          "execution_count": 484
        }
      ]
    },
    {
      "cell_type": "code",
      "metadata": {
        "colab": {
          "base_uri": "https://localhost:8080/"
        },
        "id": "57oLVyPI76tj",
        "outputId": "76ba6666-b6a6-454c-a0e8-d47f45f57947"
      },
      "source": [
        "news['headline_text'].value_counts().count()"
      ],
      "execution_count": 485,
      "outputs": [
        {
          "output_type": "execute_result",
          "data": {
            "text/plain": [
              "3168800"
            ]
          },
          "metadata": {
            "tags": []
          },
          "execution_count": 485
        }
      ]
    },
    {
      "cell_type": "code",
      "metadata": {
        "colab": {
          "base_uri": "https://localhost:8080/"
        },
        "id": "Xaj5ANXf7-eZ",
        "outputId": "f0fd9613-c7d2-4cdc-c1f4-86f3f1401a4a"
      },
      "source": [
        "news.isnull().sum().sum()"
      ],
      "execution_count": 486,
      "outputs": [
        {
          "output_type": "execute_result",
          "data": {
            "text/plain": [
              "0"
            ]
          },
          "metadata": {
            "tags": []
          },
          "execution_count": 486
        }
      ]
    },
    {
      "cell_type": "code",
      "metadata": {
        "colab": {
          "base_uri": "https://localhost:8080/"
        },
        "id": "24mgOnYv8A75",
        "outputId": "c7c19e2e-6f4b-45f8-c7a9-f26c8dde1c12"
      },
      "source": [
        "#finding if any duplicate values are present\n",
        "news.duplicated().sum()"
      ],
      "execution_count": 487,
      "outputs": [
        {
          "output_type": "execute_result",
          "data": {
            "text/plain": [
              "24191"
            ]
          },
          "metadata": {
            "tags": []
          },
          "execution_count": 487
        }
      ]
    },
    {
      "cell_type": "code",
      "metadata": {
        "colab": {
          "base_uri": "https://localhost:8080/"
        },
        "id": "0d-RVJaH8DI3",
        "outputId": "5b26f3e5-3c30-4c31-b64c-61445ee8616b"
      },
      "source": [
        "#rough checking by marking all duplicates as True. Default is first which marks duplicates as True except for the first occurrence.\n",
        "news.duplicated(keep=False).sum()"
      ],
      "execution_count": 488,
      "outputs": [
        {
          "output_type": "execute_result",
          "data": {
            "text/plain": [
              "46130"
            ]
          },
          "metadata": {
            "tags": []
          },
          "execution_count": 488
        }
      ]
    },
    {
      "cell_type": "code",
      "metadata": {
        "id": "vyoEDeRZ8FbA"
      },
      "source": [
        "cols = list(news.columns)\n",
        "news.sort_values(by=cols, inplace=True, ignore_index=True)"
      ],
      "execution_count": 489,
      "outputs": []
    },
    {
      "cell_type": "code",
      "metadata": {
        "colab": {
          "base_uri": "https://localhost:8080/",
          "height": 419
        },
        "id": "Z44GXXyz8Hvc",
        "outputId": "dfe23af9-94e9-4e52-d9ab-24f2bfa238de"
      },
      "source": [
        "news[news.duplicated(keep=False)]"
      ],
      "execution_count": 490,
      "outputs": [
        {
          "output_type": "execute_result",
          "data": {
            "text/html": [
              "<div>\n",
              "<style scoped>\n",
              "    .dataframe tbody tr th:only-of-type {\n",
              "        vertical-align: middle;\n",
              "    }\n",
              "\n",
              "    .dataframe tbody tr th {\n",
              "        vertical-align: top;\n",
              "    }\n",
              "\n",
              "    .dataframe thead th {\n",
              "        text-align: right;\n",
              "    }\n",
              "</style>\n",
              "<table border=\"1\" class=\"dataframe\">\n",
              "  <thead>\n",
              "    <tr style=\"text-align: right;\">\n",
              "      <th></th>\n",
              "      <th>publish_date</th>\n",
              "      <th>headline_category</th>\n",
              "      <th>headline_text</th>\n",
              "    </tr>\n",
              "  </thead>\n",
              "  <tbody>\n",
              "    <tr>\n",
              "      <th>3</th>\n",
              "      <td>2001-01-02</td>\n",
              "      <td>unknown</td>\n",
              "      <td>America's unwanted heading for India?</td>\n",
              "    </tr>\n",
              "    <tr>\n",
              "      <th>4</th>\n",
              "      <td>2001-01-02</td>\n",
              "      <td>unknown</td>\n",
              "      <td>America's unwanted heading for India?</td>\n",
              "    </tr>\n",
              "    <tr>\n",
              "      <th>5</th>\n",
              "      <td>2001-01-02</td>\n",
              "      <td>unknown</td>\n",
              "      <td>America's unwanted heading for India?</td>\n",
              "    </tr>\n",
              "    <tr>\n",
              "      <th>6</th>\n",
              "      <td>2001-01-02</td>\n",
              "      <td>unknown</td>\n",
              "      <td>America's unwanted heading for India?</td>\n",
              "    </tr>\n",
              "    <tr>\n",
              "      <th>9</th>\n",
              "      <td>2001-01-02</td>\n",
              "      <td>unknown</td>\n",
              "      <td>BBC's reality TV will focus on AIIMS</td>\n",
              "    </tr>\n",
              "    <tr>\n",
              "      <th>...</th>\n",
              "      <td>...</td>\n",
              "      <td>...</td>\n",
              "      <td>...</td>\n",
              "    </tr>\n",
              "    <tr>\n",
              "      <th>3421893</th>\n",
              "      <td>2020-12-27</td>\n",
              "      <td>city.nagpur</td>\n",
              "      <td>Govt forcing helpless sr citizens to fight leg...</td>\n",
              "    </tr>\n",
              "    <tr>\n",
              "      <th>3422119</th>\n",
              "      <td>2020-12-28</td>\n",
              "      <td>city.bareilly</td>\n",
              "      <td>Rampur's Hunar Haat a platform for artisans fr...</td>\n",
              "    </tr>\n",
              "    <tr>\n",
              "      <th>3422120</th>\n",
              "      <td>2020-12-28</td>\n",
              "      <td>city.bareilly</td>\n",
              "      <td>Rampur's Hunar Haat a platform for artisans fr...</td>\n",
              "    </tr>\n",
              "    <tr>\n",
              "      <th>3422956</th>\n",
              "      <td>2020-12-29</td>\n",
              "      <td>city.pune</td>\n",
              "      <td>PMC to draft separate DP after 23 villages' me...</td>\n",
              "    </tr>\n",
              "    <tr>\n",
              "      <th>3422957</th>\n",
              "      <td>2020-12-29</td>\n",
              "      <td>city.pune</td>\n",
              "      <td>PMC to draft separate DP after 23 villages' me...</td>\n",
              "    </tr>\n",
              "  </tbody>\n",
              "</table>\n",
              "<p>46130 rows × 3 columns</p>\n",
              "</div>"
            ],
            "text/plain": [
              "        publish_date  ...                                      headline_text\n",
              "3         2001-01-02  ...              America's unwanted heading for India?\n",
              "4         2001-01-02  ...              America's unwanted heading for India?\n",
              "5         2001-01-02  ...              America's unwanted heading for India?\n",
              "6         2001-01-02  ...              America's unwanted heading for India?\n",
              "9         2001-01-02  ...               BBC's reality TV will focus on AIIMS\n",
              "...              ...  ...                                                ...\n",
              "3421893   2020-12-27  ...  Govt forcing helpless sr citizens to fight leg...\n",
              "3422119   2020-12-28  ...  Rampur's Hunar Haat a platform for artisans fr...\n",
              "3422120   2020-12-28  ...  Rampur's Hunar Haat a platform for artisans fr...\n",
              "3422956   2020-12-29  ...  PMC to draft separate DP after 23 villages' me...\n",
              "3422957   2020-12-29  ...  PMC to draft separate DP after 23 villages' me...\n",
              "\n",
              "[46130 rows x 3 columns]"
            ]
          },
          "metadata": {
            "tags": []
          },
          "execution_count": 490
        }
      ]
    },
    {
      "cell_type": "code",
      "metadata": {
        "id": "WoD-PeL08KRB"
      },
      "source": [
        "#dropping the duplicates only keeping the last value (ordinally last row from sorted) of each duplicates\n",
        "news.drop_duplicates(keep='last', inplace=True, ignore_index=True)"
      ],
      "execution_count": 491,
      "outputs": []
    },
    {
      "cell_type": "code",
      "metadata": {
        "colab": {
          "base_uri": "https://localhost:8080/"
        },
        "id": "yzlfSWHL8NIR",
        "outputId": "fea015d4-c434-4f9e-8cc6-e4efbe3a6763"
      },
      "source": [
        "#re-checking everything worked well with drop_duplicates() carried out earlier on the dataset\n",
        "news.duplicated().sum()"
      ],
      "execution_count": 492,
      "outputs": [
        {
          "output_type": "execute_result",
          "data": {
            "text/plain": [
              "0"
            ]
          },
          "metadata": {
            "tags": []
          },
          "execution_count": 492
        }
      ]
    },
    {
      "cell_type": "code",
      "metadata": {
        "id": "uXzcpcl28PrT"
      },
      "source": [
        "from textblob import TextBlob"
      ],
      "execution_count": 493,
      "outputs": []
    },
    {
      "cell_type": "code",
      "metadata": {
        "id": "haFjCLLY8T0a"
      },
      "source": [
        "#getting a list of unique dates in publish_date column\n",
        "lst = news['publish_date'].value_counts().index.tolist()"
      ],
      "execution_count": 494,
      "outputs": []
    },
    {
      "cell_type": "code",
      "metadata": {
        "id": "-ZQ94z578WNP"
      },
      "source": [
        "#concatenating all the headline_text column values of same date in publish_date column\n",
        "new = []\n",
        "for x in lst:\n",
        "  df = news.loc[news['publish_date'] == x]\n",
        "  headlinetext = ''\n",
        "  publishdate = str(x)\n",
        "  headlinetext = df['headline_text'].iloc[0]\n",
        "  for i in range(1 , len(df)):\n",
        "    headlinetext = headlinetext + '. '+ str(df['headline_text'].iloc[i])  \n",
        "  new.append(headlinetext)"
      ],
      "execution_count": 495,
      "outputs": []
    },
    {
      "cell_type": "code",
      "metadata": {
        "id": "K6ZHULXW8cBR"
      },
      "source": [
        "#creating a new dataset\n",
        "newsdf = pd.DataFrame({'publish_date': lst, 'headline_text' : new})"
      ],
      "execution_count": 496,
      "outputs": []
    },
    {
      "cell_type": "code",
      "metadata": {
        "colab": {
          "base_uri": "https://localhost:8080/",
          "height": 204
        },
        "id": "qNce9rzc88ft",
        "outputId": "be768953-34ad-41e7-f584-19c45624c394"
      },
      "source": [
        "newsdf.head()"
      ],
      "execution_count": 497,
      "outputs": [
        {
          "output_type": "execute_result",
          "data": {
            "text/html": [
              "<div>\n",
              "<style scoped>\n",
              "    .dataframe tbody tr th:only-of-type {\n",
              "        vertical-align: middle;\n",
              "    }\n",
              "\n",
              "    .dataframe tbody tr th {\n",
              "        vertical-align: top;\n",
              "    }\n",
              "\n",
              "    .dataframe thead th {\n",
              "        text-align: right;\n",
              "    }\n",
              "</style>\n",
              "<table border=\"1\" class=\"dataframe\">\n",
              "  <thead>\n",
              "    <tr style=\"text-align: right;\">\n",
              "      <th></th>\n",
              "      <th>publish_date</th>\n",
              "      <th>headline_text</th>\n",
              "    </tr>\n",
              "  </thead>\n",
              "  <tbody>\n",
              "    <tr>\n",
              "      <th>0</th>\n",
              "      <td>2014-12-15</td>\n",
              "      <td>Golden Homes III. Golden Panorama. Hanging Gar...</td>\n",
              "    </tr>\n",
              "    <tr>\n",
              "      <th>1</th>\n",
              "      <td>2014-12-21</td>\n",
              "      <td>Eight companies add Rs 55;171 crore in m-cap; ...</td>\n",
              "    </tr>\n",
              "    <tr>\n",
              "      <th>2</th>\n",
              "      <td>2014-12-09</td>\n",
              "      <td>Audi-Vredestein driving experience. Benelli TN...</td>\n",
              "    </tr>\n",
              "    <tr>\n",
              "      <th>3</th>\n",
              "      <td>2014-11-29</td>\n",
              "      <td>6 CARE IPO merchant bankers fined Rs 1 crore. ...</td>\n",
              "    </tr>\n",
              "    <tr>\n",
              "      <th>4</th>\n",
              "      <td>2014-11-01</td>\n",
              "      <td>Chetan Bhagat: Cleanliness begins at home. Gau...</td>\n",
              "    </tr>\n",
              "  </tbody>\n",
              "</table>\n",
              "</div>"
            ],
            "text/plain": [
              "  publish_date                                      headline_text\n",
              "0   2014-12-15  Golden Homes III. Golden Panorama. Hanging Gar...\n",
              "1   2014-12-21  Eight companies add Rs 55;171 crore in m-cap; ...\n",
              "2   2014-12-09  Audi-Vredestein driving experience. Benelli TN...\n",
              "3   2014-11-29  6 CARE IPO merchant bankers fined Rs 1 crore. ...\n",
              "4   2014-11-01  Chetan Bhagat: Cleanliness begins at home. Gau..."
            ]
          },
          "metadata": {
            "tags": []
          },
          "execution_count": 497
        }
      ]
    },
    {
      "cell_type": "code",
      "metadata": {
        "id": "L1_TAwLV9AQH"
      },
      "source": [
        "#sorting the dataset based on dates\n",
        "newsdf.sort_values(by='publish_date', inplace=True, ignore_index=True)"
      ],
      "execution_count": 498,
      "outputs": []
    },
    {
      "cell_type": "code",
      "metadata": {
        "colab": {
          "base_uri": "https://localhost:8080/",
          "height": 204
        },
        "id": "alLLeedn9C7e",
        "outputId": "4a9293ab-7086-4c66-df70-9d758617b9c0"
      },
      "source": [
        "newsdf.head()"
      ],
      "execution_count": 499,
      "outputs": [
        {
          "output_type": "execute_result",
          "data": {
            "text/html": [
              "<div>\n",
              "<style scoped>\n",
              "    .dataframe tbody tr th:only-of-type {\n",
              "        vertical-align: middle;\n",
              "    }\n",
              "\n",
              "    .dataframe tbody tr th {\n",
              "        vertical-align: top;\n",
              "    }\n",
              "\n",
              "    .dataframe thead th {\n",
              "        text-align: right;\n",
              "    }\n",
              "</style>\n",
              "<table border=\"1\" class=\"dataframe\">\n",
              "  <thead>\n",
              "    <tr style=\"text-align: right;\">\n",
              "      <th></th>\n",
              "      <th>publish_date</th>\n",
              "      <th>headline_text</th>\n",
              "    </tr>\n",
              "  </thead>\n",
              "  <tbody>\n",
              "    <tr>\n",
              "      <th>0</th>\n",
              "      <td>2001-01-02</td>\n",
              "      <td>Raju Chacha. A noisy effort to spruce up Comme...</td>\n",
              "    </tr>\n",
              "    <tr>\n",
              "      <th>1</th>\n",
              "      <td>2001-01-03</td>\n",
              "      <td>'Devdas': Jinxed?. 10-year-old girl missing. 3...</td>\n",
              "    </tr>\n",
              "    <tr>\n",
              "      <th>2</th>\n",
              "      <td>2001-01-04</td>\n",
              "      <td>Car dealers caught in Bihar sales tax ruling. ...</td>\n",
              "    </tr>\n",
              "    <tr>\n",
              "      <th>3</th>\n",
              "      <td>2001-01-05</td>\n",
              "      <td>Nepal won't allow anti-India activities: Envoy...</td>\n",
              "    </tr>\n",
              "    <tr>\n",
              "      <th>4</th>\n",
              "      <td>2001-01-06</td>\n",
              "      <td>Anti-immigration think-tank berates Clinton re...</td>\n",
              "    </tr>\n",
              "  </tbody>\n",
              "</table>\n",
              "</div>"
            ],
            "text/plain": [
              "  publish_date                                      headline_text\n",
              "0   2001-01-02  Raju Chacha. A noisy effort to spruce up Comme...\n",
              "1   2001-01-03  'Devdas': Jinxed?. 10-year-old girl missing. 3...\n",
              "2   2001-01-04  Car dealers caught in Bihar sales tax ruling. ...\n",
              "3   2001-01-05  Nepal won't allow anti-India activities: Envoy...\n",
              "4   2001-01-06  Anti-immigration think-tank berates Clinton re..."
            ]
          },
          "metadata": {
            "tags": []
          },
          "execution_count": 499
        }
      ]
    },
    {
      "cell_type": "code",
      "metadata": {
        "colab": {
          "base_uri": "https://localhost:8080/"
        },
        "id": "5ggE2kY59FHa",
        "outputId": "d079d0c3-e537-434c-ec07-40f16dbe37d9"
      },
      "source": [
        "newsdf.info()"
      ],
      "execution_count": 500,
      "outputs": [
        {
          "output_type": "stream",
          "text": [
            "<class 'pandas.core.frame.DataFrame'>\n",
            "RangeIndex: 7262 entries, 0 to 7261\n",
            "Data columns (total 2 columns):\n",
            " #   Column         Non-Null Count  Dtype         \n",
            "---  ------         --------------  -----         \n",
            " 0   publish_date   7262 non-null   datetime64[ns]\n",
            " 1   headline_text  7262 non-null   object        \n",
            "dtypes: datetime64[ns](1), object(1)\n",
            "memory usage: 113.6+ KB\n"
          ],
          "name": "stdout"
        }
      ]
    },
    {
      "cell_type": "code",
      "metadata": {
        "id": "5_HyFAZp9Om3"
      },
      "source": [
        "polarity = []\n",
        "subjectivity = []\n",
        "for idx, row in newsdf.iterrows():\n",
        "  polarity.append(TextBlob(row['headline_text']).sentiment[0])\n",
        "  subjectivity.append(TextBlob(row['headline_text']).sentiment[1])"
      ],
      "execution_count": 501,
      "outputs": []
    },
    {
      "cell_type": "code",
      "metadata": {
        "id": "fmOV3e8S9Tg2"
      },
      "source": [
        "newsdf['polarity'] = polarity\n",
        "newsdf['subjectivity'] = subjectivity"
      ],
      "execution_count": 502,
      "outputs": []
    },
    {
      "cell_type": "code",
      "metadata": {
        "colab": {
          "base_uri": "https://localhost:8080/",
          "height": 204
        },
        "id": "QRZxZecY9VhC",
        "outputId": "9ec7a021-b854-49a0-dc8e-60df5924cd18"
      },
      "source": [
        "newsdf.head()"
      ],
      "execution_count": 503,
      "outputs": [
        {
          "output_type": "execute_result",
          "data": {
            "text/html": [
              "<div>\n",
              "<style scoped>\n",
              "    .dataframe tbody tr th:only-of-type {\n",
              "        vertical-align: middle;\n",
              "    }\n",
              "\n",
              "    .dataframe tbody tr th {\n",
              "        vertical-align: top;\n",
              "    }\n",
              "\n",
              "    .dataframe thead th {\n",
              "        text-align: right;\n",
              "    }\n",
              "</style>\n",
              "<table border=\"1\" class=\"dataframe\">\n",
              "  <thead>\n",
              "    <tr style=\"text-align: right;\">\n",
              "      <th></th>\n",
              "      <th>publish_date</th>\n",
              "      <th>headline_text</th>\n",
              "      <th>polarity</th>\n",
              "      <th>subjectivity</th>\n",
              "    </tr>\n",
              "  </thead>\n",
              "  <tbody>\n",
              "    <tr>\n",
              "      <th>0</th>\n",
              "      <td>2001-01-02</td>\n",
              "      <td>Raju Chacha. A noisy effort to spruce up Comme...</td>\n",
              "      <td>0.193519</td>\n",
              "      <td>0.293056</td>\n",
              "    </tr>\n",
              "    <tr>\n",
              "      <th>1</th>\n",
              "      <td>2001-01-03</td>\n",
              "      <td>'Devdas': Jinxed?. 10-year-old girl missing. 3...</td>\n",
              "      <td>0.088462</td>\n",
              "      <td>0.407692</td>\n",
              "    </tr>\n",
              "    <tr>\n",
              "      <th>2</th>\n",
              "      <td>2001-01-04</td>\n",
              "      <td>Car dealers caught in Bihar sales tax ruling. ...</td>\n",
              "      <td>0.091426</td>\n",
              "      <td>0.481895</td>\n",
              "    </tr>\n",
              "    <tr>\n",
              "      <th>3</th>\n",
              "      <td>2001-01-05</td>\n",
              "      <td>Nepal won't allow anti-India activities: Envoy...</td>\n",
              "      <td>0.257415</td>\n",
              "      <td>0.465542</td>\n",
              "    </tr>\n",
              "    <tr>\n",
              "      <th>4</th>\n",
              "      <td>2001-01-06</td>\n",
              "      <td>Anti-immigration think-tank berates Clinton re...</td>\n",
              "      <td>0.219481</td>\n",
              "      <td>0.464935</td>\n",
              "    </tr>\n",
              "  </tbody>\n",
              "</table>\n",
              "</div>"
            ],
            "text/plain": [
              "  publish_date  ... subjectivity\n",
              "0   2001-01-02  ...     0.293056\n",
              "1   2001-01-03  ...     0.407692\n",
              "2   2001-01-04  ...     0.481895\n",
              "3   2001-01-05  ...     0.465542\n",
              "4   2001-01-06  ...     0.464935\n",
              "\n",
              "[5 rows x 4 columns]"
            ]
          },
          "metadata": {
            "tags": []
          },
          "execution_count": 503
        }
      ]
    },
    {
      "cell_type": "code",
      "metadata": {
        "colab": {
          "base_uri": "https://localhost:8080/"
        },
        "id": "V0neYk_O9X--",
        "outputId": "271c4b0a-4678-4c9f-8035-771852fce37f"
      },
      "source": [
        "#finding if any null values are present\n",
        "newsdf.isnull().sum().sum()"
      ],
      "execution_count": 504,
      "outputs": [
        {
          "output_type": "execute_result",
          "data": {
            "text/plain": [
              "0"
            ]
          },
          "metadata": {
            "tags": []
          },
          "execution_count": 504
        }
      ]
    },
    {
      "cell_type": "code",
      "metadata": {
        "id": "NZqP5zfa9a8V"
      },
      "source": [
        "#renameing the publish_date to date so it will help us during joining this dataset with bse_data dataset\n",
        "newsdf.rename(columns={'publish_date': 'date'}, inplace = True)"
      ],
      "execution_count": 505,
      "outputs": []
    },
    {
      "cell_type": "code",
      "metadata": {
        "id": "xr3N1OoK9fHG"
      },
      "source": [
        "#selecting required columns\n",
        "newsdf = newsdf.filter(['date', 'polarity', 'subjectivity'], axis=1)"
      ],
      "execution_count": 506,
      "outputs": []
    },
    {
      "cell_type": "code",
      "metadata": {
        "colab": {
          "base_uri": "https://localhost:8080/"
        },
        "id": "B8cw7VLy9hNr",
        "outputId": "9f6811df-7e85-4f69-f47b-d8e1c1637800"
      },
      "source": [
        "newsdf.shape"
      ],
      "execution_count": 507,
      "outputs": [
        {
          "output_type": "execute_result",
          "data": {
            "text/plain": [
              "(7262, 3)"
            ]
          },
          "metadata": {
            "tags": []
          },
          "execution_count": 507
        }
      ]
    },
    {
      "cell_type": "code",
      "metadata": {
        "colab": {
          "base_uri": "https://localhost:8080/"
        },
        "id": "2JBU6kO_9i5e",
        "outputId": "d2a31abd-f413-4c7b-b3ee-43af95222f15"
      },
      "source": [
        "newsdf['date'].duplicated().sum()"
      ],
      "execution_count": 508,
      "outputs": [
        {
          "output_type": "execute_result",
          "data": {
            "text/plain": [
              "0"
            ]
          },
          "metadata": {
            "tags": []
          },
          "execution_count": 508
        }
      ]
    },
    {
      "cell_type": "code",
      "metadata": {
        "colab": {
          "base_uri": "https://localhost:8080/"
        },
        "id": "z_f_-uF89lKB",
        "outputId": "df329812-ac14-483c-8f08-e0e40582eec2"
      },
      "source": [
        "bse_data.shape"
      ],
      "execution_count": 509,
      "outputs": [
        {
          "output_type": "execute_result",
          "data": {
            "text/plain": [
              "(1601, 7)"
            ]
          },
          "metadata": {
            "tags": []
          },
          "execution_count": 509
        }
      ]
    },
    {
      "cell_type": "code",
      "metadata": {
        "colab": {
          "base_uri": "https://localhost:8080/"
        },
        "id": "6_kpcNGW9m_o",
        "outputId": "ac5e19c8-851e-4c80-abc2-648dc3da5897"
      },
      "source": [
        "bse_data['date'].duplicated().sum()"
      ],
      "execution_count": 510,
      "outputs": [
        {
          "output_type": "execute_result",
          "data": {
            "text/plain": [
              "0"
            ]
          },
          "metadata": {
            "tags": []
          },
          "execution_count": 510
        }
      ]
    },
    {
      "cell_type": "code",
      "metadata": {
        "id": "kfne2BBh9qbR"
      },
      "source": [
        "bse_data = pd.merge(bse_data, newsdf, how='left', on=['date'])"
      ],
      "execution_count": 511,
      "outputs": []
    },
    {
      "cell_type": "code",
      "metadata": {
        "colab": {
          "base_uri": "https://localhost:8080/",
          "height": 204
        },
        "id": "Q1Yh6XDk9thT",
        "outputId": "8bbbed18-13ef-4fa1-899d-c8cfaf628698"
      },
      "source": [
        "bse_data.head()"
      ],
      "execution_count": 512,
      "outputs": [
        {
          "output_type": "execute_result",
          "data": {
            "text/html": [
              "<div>\n",
              "<style scoped>\n",
              "    .dataframe tbody tr th:only-of-type {\n",
              "        vertical-align: middle;\n",
              "    }\n",
              "\n",
              "    .dataframe tbody tr th {\n",
              "        vertical-align: top;\n",
              "    }\n",
              "\n",
              "    .dataframe thead th {\n",
              "        text-align: right;\n",
              "    }\n",
              "</style>\n",
              "<table border=\"1\" class=\"dataframe\">\n",
              "  <thead>\n",
              "    <tr style=\"text-align: right;\">\n",
              "      <th></th>\n",
              "      <th>date</th>\n",
              "      <th>open</th>\n",
              "      <th>high</th>\n",
              "      <th>low</th>\n",
              "      <th>close</th>\n",
              "      <th>adjclose</th>\n",
              "      <th>volume</th>\n",
              "      <th>polarity</th>\n",
              "      <th>subjectivity</th>\n",
              "    </tr>\n",
              "  </thead>\n",
              "  <tbody>\n",
              "    <tr>\n",
              "      <th>0</th>\n",
              "      <td>2015-01-02</td>\n",
              "      <td>27521.279297</td>\n",
              "      <td>27937.470703</td>\n",
              "      <td>27519.259766</td>\n",
              "      <td>27887.900391</td>\n",
              "      <td>27887.900391</td>\n",
              "      <td>7400</td>\n",
              "      <td>0.055586</td>\n",
              "      <td>0.455251</td>\n",
              "    </tr>\n",
              "    <tr>\n",
              "      <th>1</th>\n",
              "      <td>2015-01-05</td>\n",
              "      <td>27978.429688</td>\n",
              "      <td>28064.490234</td>\n",
              "      <td>27786.849609</td>\n",
              "      <td>27842.320312</td>\n",
              "      <td>27842.320312</td>\n",
              "      <td>9200</td>\n",
              "      <td>0.100081</td>\n",
              "      <td>0.433132</td>\n",
              "    </tr>\n",
              "    <tr>\n",
              "      <th>2</th>\n",
              "      <td>2015-01-06</td>\n",
              "      <td>27694.230469</td>\n",
              "      <td>27698.929688</td>\n",
              "      <td>26937.060547</td>\n",
              "      <td>26987.460938</td>\n",
              "      <td>26987.460938</td>\n",
              "      <td>14100</td>\n",
              "      <td>0.055802</td>\n",
              "      <td>0.386579</td>\n",
              "    </tr>\n",
              "    <tr>\n",
              "      <th>3</th>\n",
              "      <td>2015-01-07</td>\n",
              "      <td>26983.429688</td>\n",
              "      <td>27051.599609</td>\n",
              "      <td>26776.119141</td>\n",
              "      <td>26908.820312</td>\n",
              "      <td>26908.820312</td>\n",
              "      <td>12200</td>\n",
              "      <td>0.034707</td>\n",
              "      <td>0.386916</td>\n",
              "    </tr>\n",
              "    <tr>\n",
              "      <th>4</th>\n",
              "      <td>2015-01-08</td>\n",
              "      <td>27178.769531</td>\n",
              "      <td>27316.410156</td>\n",
              "      <td>27101.939453</td>\n",
              "      <td>27274.710938</td>\n",
              "      <td>27274.710938</td>\n",
              "      <td>8200</td>\n",
              "      <td>0.060173</td>\n",
              "      <td>0.408416</td>\n",
              "    </tr>\n",
              "  </tbody>\n",
              "</table>\n",
              "</div>"
            ],
            "text/plain": [
              "        date          open          high  ...  volume  polarity  subjectivity\n",
              "0 2015-01-02  27521.279297  27937.470703  ...    7400  0.055586      0.455251\n",
              "1 2015-01-05  27978.429688  28064.490234  ...    9200  0.100081      0.433132\n",
              "2 2015-01-06  27694.230469  27698.929688  ...   14100  0.055802      0.386579\n",
              "3 2015-01-07  26983.429688  27051.599609  ...   12200  0.034707      0.386916\n",
              "4 2015-01-08  27178.769531  27316.410156  ...    8200  0.060173      0.408416\n",
              "\n",
              "[5 rows x 9 columns]"
            ]
          },
          "metadata": {
            "tags": []
          },
          "execution_count": 512
        }
      ]
    },
    {
      "cell_type": "code",
      "metadata": {
        "colab": {
          "base_uri": "https://localhost:8080/"
        },
        "id": "Q5uAZ8M39wB_",
        "outputId": "5c7408df-0c42-4509-be7e-66cb70827eaf"
      },
      "source": [
        "bse_data.isnull().sum().sum()"
      ],
      "execution_count": 513,
      "outputs": [
        {
          "output_type": "execute_result",
          "data": {
            "text/plain": [
              "254"
            ]
          },
          "metadata": {
            "tags": []
          },
          "execution_count": 513
        }
      ]
    },
    {
      "cell_type": "markdown",
      "metadata": {
        "id": "vVJJzdTf90w3"
      },
      "source": [
        "# ***Preparing the dataset for machine learning***"
      ]
    },
    {
      "cell_type": "code",
      "metadata": {
        "id": "nNSuSaRR9zFk"
      },
      "source": [
        "bse_data.loc[len(bse_data)] = ['2020-06-30', bse_data['open'].mean(), bse_data['high'].mean(), bse_data['low'].mean(),\n",
        "                       bse_data['close'].mean(), bse_data['adjclose'].mean(), bse_data['volume'].median(), newsdf['polarity'].mean(), newsdf['subjectivity'].mean() ]"
      ],
      "execution_count": 514,
      "outputs": []
    },
    {
      "cell_type": "code",
      "metadata": {
        "id": "FsMAhPOp96xH"
      },
      "source": [
        "#converting date from object dtype to datetime dtype\n",
        "bse_data['date'] = pd.to_datetime(bse_data['date'], format=\"%Y-%m-%d\")"
      ],
      "execution_count": 515,
      "outputs": []
    },
    {
      "cell_type": "code",
      "metadata": {
        "colab": {
          "base_uri": "https://localhost:8080/",
          "height": 204
        },
        "id": "egkqdJvu99AG",
        "outputId": "a987291e-6a84-4b35-8a8b-1e4f421213de"
      },
      "source": [
        "bse_data.tail()"
      ],
      "execution_count": 516,
      "outputs": [
        {
          "output_type": "execute_result",
          "data": {
            "text/html": [
              "<div>\n",
              "<style scoped>\n",
              "    .dataframe tbody tr th:only-of-type {\n",
              "        vertical-align: middle;\n",
              "    }\n",
              "\n",
              "    .dataframe tbody tr th {\n",
              "        vertical-align: top;\n",
              "    }\n",
              "\n",
              "    .dataframe thead th {\n",
              "        text-align: right;\n",
              "    }\n",
              "</style>\n",
              "<table border=\"1\" class=\"dataframe\">\n",
              "  <thead>\n",
              "    <tr style=\"text-align: right;\">\n",
              "      <th></th>\n",
              "      <th>date</th>\n",
              "      <th>open</th>\n",
              "      <th>high</th>\n",
              "      <th>low</th>\n",
              "      <th>close</th>\n",
              "      <th>adjclose</th>\n",
              "      <th>volume</th>\n",
              "      <th>polarity</th>\n",
              "      <th>subjectivity</th>\n",
              "    </tr>\n",
              "  </thead>\n",
              "  <tbody>\n",
              "    <tr>\n",
              "      <th>1597</th>\n",
              "      <td>2021-07-06</td>\n",
              "      <td>52874.851562</td>\n",
              "      <td>53129.371094</td>\n",
              "      <td>52804.179688</td>\n",
              "      <td>52861.179688</td>\n",
              "      <td>52861.179688</td>\n",
              "      <td>7000.0</td>\n",
              "      <td>NaN</td>\n",
              "      <td>NaN</td>\n",
              "    </tr>\n",
              "    <tr>\n",
              "      <th>1598</th>\n",
              "      <td>2021-07-07</td>\n",
              "      <td>52919.710938</td>\n",
              "      <td>53105.410156</td>\n",
              "      <td>52751.761719</td>\n",
              "      <td>53054.761719</td>\n",
              "      <td>53054.761719</td>\n",
              "      <td>8000.0</td>\n",
              "      <td>NaN</td>\n",
              "      <td>NaN</td>\n",
              "    </tr>\n",
              "    <tr>\n",
              "      <th>1599</th>\n",
              "      <td>2021-07-08</td>\n",
              "      <td>53065.691406</td>\n",
              "      <td>53103.031250</td>\n",
              "      <td>52428.839844</td>\n",
              "      <td>52568.941406</td>\n",
              "      <td>52568.941406</td>\n",
              "      <td>6400.0</td>\n",
              "      <td>NaN</td>\n",
              "      <td>NaN</td>\n",
              "    </tr>\n",
              "    <tr>\n",
              "      <th>1600</th>\n",
              "      <td>2021-07-09</td>\n",
              "      <td>52508.238281</td>\n",
              "      <td>52555.730469</td>\n",
              "      <td>52228.011719</td>\n",
              "      <td>52386.191406</td>\n",
              "      <td>52386.191406</td>\n",
              "      <td>6400.0</td>\n",
              "      <td>NaN</td>\n",
              "      <td>NaN</td>\n",
              "    </tr>\n",
              "    <tr>\n",
              "      <th>1601</th>\n",
              "      <td>2020-06-30</td>\n",
              "      <td>34163.673196</td>\n",
              "      <td>34325.638795</td>\n",
              "      <td>33916.784040</td>\n",
              "      <td>34115.862328</td>\n",
              "      <td>34115.862328</td>\n",
              "      <td>13400.0</td>\n",
              "      <td>0.069503</td>\n",
              "      <td>0.403839</td>\n",
              "    </tr>\n",
              "  </tbody>\n",
              "</table>\n",
              "</div>"
            ],
            "text/plain": [
              "           date          open          high  ...   volume  polarity  subjectivity\n",
              "1597 2021-07-06  52874.851562  53129.371094  ...   7000.0       NaN           NaN\n",
              "1598 2021-07-07  52919.710938  53105.410156  ...   8000.0       NaN           NaN\n",
              "1599 2021-07-08  53065.691406  53103.031250  ...   6400.0       NaN           NaN\n",
              "1600 2021-07-09  52508.238281  52555.730469  ...   6400.0       NaN           NaN\n",
              "1601 2020-06-30  34163.673196  34325.638795  ...  13400.0  0.069503      0.403839\n",
              "\n",
              "[5 rows x 9 columns]"
            ]
          },
          "metadata": {
            "tags": []
          },
          "execution_count": 516
        }
      ]
    },
    {
      "cell_type": "code",
      "metadata": {
        "id": "0tEmCuNU9-2r"
      },
      "source": [
        "bse_data[\"month\"] = bse_data['date'].dt.month\n",
        "bse_data[\"day\"] = bse_data['date'].dt.day\n",
        "bse_data[\"dayofweek\"] = bse_data['date'].dt.dayofweek\n",
        "bse_data[\"week\"] = bse_data['date'].dt.week\n",
        "bse_data['movingavg4weeks'] = round(bse_data['close'].rolling(window=(4*5), min_periods = 1).mean().shift(),2)\n",
        "bse_data['movingavg16weeks'] = round(bse_data['close'].rolling(window=(16*5), min_periods = 1).mean().shift(),2) #add 12 weeks to 4 weeks \n",
        "bse_data['movingavg28weeks'] = round(bse_data['close'].rolling(window=(28*5), min_periods = 1).mean().shift(),2) #add 12 weeks to 16 weeks\n",
        "bse_data['movingavg40weeks'] = round(bse_data['close'].rolling(window=(40*5), min_periods = 1).mean().shift(),2) #add 12 weeks to 28 weeks\n",
        "bse_data['movingavg52weeks'] = round(bse_data['close'].rolling(window=(52*5), min_periods = 1).mean().shift(),2)  #add 12 weeks to 40 weeks\n",
        "bse_data['window10days'] = round(bse_data['close'].rolling(window = 10, min_periods = 1).mean().shift(),2)  \n",
        "bse_data['window50days'] = round(bse_data['close'].rolling(window = 50, min_periods = 1).mean().shift(),2)\n",
        "bse_data['volumeshock'] = round(boolean_shock(10, bse_data, 'volume').reset_index()['shock'], 2)\n",
        "bse_data['priceshock'] = round(priceboolean_shock(10, bse_data).reset_index()['shock'], 2)\n",
        "bse_data['polarity'] = round(bse_data['polarity'] , 2)\n",
        "bse_data['subjectivity'] = round(bse_data['subjectivity'] , 2)\n",
        "bse_data['price'] = round((bse_data['high'] + bse_data['low'] + bse_data['close']) / 3 , 2)\n",
        "bse_data['close'] = round(bse_data['close'] , 2)"
      ],
      "execution_count": 517,
      "outputs": []
    },
    {
      "cell_type": "code",
      "metadata": {
        "colab": {
          "base_uri": "https://localhost:8080/"
        },
        "id": "k9mMGn6a-ICr",
        "outputId": "422190b4-5fec-46af-a75e-310cc5ab845a"
      },
      "source": [
        "bse_data.columns"
      ],
      "execution_count": 518,
      "outputs": [
        {
          "output_type": "execute_result",
          "data": {
            "text/plain": [
              "Index(['date', 'open', 'high', 'low', 'close', 'adjclose', 'volume',\n",
              "       'polarity', 'subjectivity', 'month', 'day', 'dayofweek', 'week',\n",
              "       'movingavg4weeks', 'movingavg16weeks', 'movingavg28weeks',\n",
              "       'movingavg40weeks', 'movingavg52weeks', 'window10days', 'window50days',\n",
              "       'volumeshock', 'priceshock', 'price'],\n",
              "      dtype='object')"
            ]
          },
          "metadata": {
            "tags": []
          },
          "execution_count": 518
        }
      ]
    },
    {
      "cell_type": "code",
      "metadata": {
        "colab": {
          "base_uri": "https://localhost:8080/",
          "height": 309
        },
        "id": "kyETG5Qh-vW9",
        "outputId": "bc63cc04-69d1-4435-901b-78106319dbb2"
      },
      "source": [
        "bse_data.head()"
      ],
      "execution_count": 519,
      "outputs": [
        {
          "output_type": "execute_result",
          "data": {
            "text/html": [
              "<div>\n",
              "<style scoped>\n",
              "    .dataframe tbody tr th:only-of-type {\n",
              "        vertical-align: middle;\n",
              "    }\n",
              "\n",
              "    .dataframe tbody tr th {\n",
              "        vertical-align: top;\n",
              "    }\n",
              "\n",
              "    .dataframe thead th {\n",
              "        text-align: right;\n",
              "    }\n",
              "</style>\n",
              "<table border=\"1\" class=\"dataframe\">\n",
              "  <thead>\n",
              "    <tr style=\"text-align: right;\">\n",
              "      <th></th>\n",
              "      <th>date</th>\n",
              "      <th>open</th>\n",
              "      <th>high</th>\n",
              "      <th>low</th>\n",
              "      <th>close</th>\n",
              "      <th>adjclose</th>\n",
              "      <th>volume</th>\n",
              "      <th>polarity</th>\n",
              "      <th>subjectivity</th>\n",
              "      <th>month</th>\n",
              "      <th>day</th>\n",
              "      <th>dayofweek</th>\n",
              "      <th>week</th>\n",
              "      <th>movingavg4weeks</th>\n",
              "      <th>movingavg16weeks</th>\n",
              "      <th>movingavg28weeks</th>\n",
              "      <th>movingavg40weeks</th>\n",
              "      <th>movingavg52weeks</th>\n",
              "      <th>window10days</th>\n",
              "      <th>window50days</th>\n",
              "      <th>volumeshock</th>\n",
              "      <th>priceshock</th>\n",
              "      <th>price</th>\n",
              "    </tr>\n",
              "  </thead>\n",
              "  <tbody>\n",
              "    <tr>\n",
              "      <th>0</th>\n",
              "      <td>2015-01-02</td>\n",
              "      <td>27521.279297</td>\n",
              "      <td>27937.470703</td>\n",
              "      <td>27519.259766</td>\n",
              "      <td>27887.90</td>\n",
              "      <td>27887.900391</td>\n",
              "      <td>7400.0</td>\n",
              "      <td>0.06</td>\n",
              "      <td>0.46</td>\n",
              "      <td>1</td>\n",
              "      <td>2</td>\n",
              "      <td>4</td>\n",
              "      <td>1</td>\n",
              "      <td>NaN</td>\n",
              "      <td>NaN</td>\n",
              "      <td>NaN</td>\n",
              "      <td>NaN</td>\n",
              "      <td>NaN</td>\n",
              "      <td>NaN</td>\n",
              "      <td>NaN</td>\n",
              "      <td>1.0</td>\n",
              "      <td>0</td>\n",
              "      <td>27781.54</td>\n",
              "    </tr>\n",
              "    <tr>\n",
              "      <th>1</th>\n",
              "      <td>2015-01-05</td>\n",
              "      <td>27978.429688</td>\n",
              "      <td>28064.490234</td>\n",
              "      <td>27786.849609</td>\n",
              "      <td>27842.32</td>\n",
              "      <td>27842.320312</td>\n",
              "      <td>9200.0</td>\n",
              "      <td>0.10</td>\n",
              "      <td>0.43</td>\n",
              "      <td>1</td>\n",
              "      <td>5</td>\n",
              "      <td>0</td>\n",
              "      <td>2</td>\n",
              "      <td>27887.90</td>\n",
              "      <td>27887.90</td>\n",
              "      <td>27887.90</td>\n",
              "      <td>27887.90</td>\n",
              "      <td>27887.90</td>\n",
              "      <td>27887.90</td>\n",
              "      <td>27887.90</td>\n",
              "      <td>1.0</td>\n",
              "      <td>0</td>\n",
              "      <td>27897.89</td>\n",
              "    </tr>\n",
              "    <tr>\n",
              "      <th>2</th>\n",
              "      <td>2015-01-06</td>\n",
              "      <td>27694.230469</td>\n",
              "      <td>27698.929688</td>\n",
              "      <td>26937.060547</td>\n",
              "      <td>26987.46</td>\n",
              "      <td>26987.460938</td>\n",
              "      <td>14100.0</td>\n",
              "      <td>0.06</td>\n",
              "      <td>0.39</td>\n",
              "      <td>1</td>\n",
              "      <td>6</td>\n",
              "      <td>1</td>\n",
              "      <td>2</td>\n",
              "      <td>27865.11</td>\n",
              "      <td>27865.11</td>\n",
              "      <td>27865.11</td>\n",
              "      <td>27865.11</td>\n",
              "      <td>27865.11</td>\n",
              "      <td>27865.11</td>\n",
              "      <td>27865.11</td>\n",
              "      <td>0.0</td>\n",
              "      <td>0</td>\n",
              "      <td>27207.82</td>\n",
              "    </tr>\n",
              "    <tr>\n",
              "      <th>3</th>\n",
              "      <td>2015-01-07</td>\n",
              "      <td>26983.429688</td>\n",
              "      <td>27051.599609</td>\n",
              "      <td>26776.119141</td>\n",
              "      <td>26908.82</td>\n",
              "      <td>26908.820312</td>\n",
              "      <td>12200.0</td>\n",
              "      <td>0.03</td>\n",
              "      <td>0.39</td>\n",
              "      <td>1</td>\n",
              "      <td>7</td>\n",
              "      <td>2</td>\n",
              "      <td>2</td>\n",
              "      <td>27572.56</td>\n",
              "      <td>27572.56</td>\n",
              "      <td>27572.56</td>\n",
              "      <td>27572.56</td>\n",
              "      <td>27572.56</td>\n",
              "      <td>27572.56</td>\n",
              "      <td>27572.56</td>\n",
              "      <td>0.0</td>\n",
              "      <td>0</td>\n",
              "      <td>26912.18</td>\n",
              "    </tr>\n",
              "    <tr>\n",
              "      <th>4</th>\n",
              "      <td>2015-01-08</td>\n",
              "      <td>27178.769531</td>\n",
              "      <td>27316.410156</td>\n",
              "      <td>27101.939453</td>\n",
              "      <td>27274.71</td>\n",
              "      <td>27274.710938</td>\n",
              "      <td>8200.0</td>\n",
              "      <td>0.06</td>\n",
              "      <td>0.41</td>\n",
              "      <td>1</td>\n",
              "      <td>8</td>\n",
              "      <td>3</td>\n",
              "      <td>2</td>\n",
              "      <td>27406.63</td>\n",
              "      <td>27406.63</td>\n",
              "      <td>27406.63</td>\n",
              "      <td>27406.63</td>\n",
              "      <td>27406.63</td>\n",
              "      <td>27406.63</td>\n",
              "      <td>27406.63</td>\n",
              "      <td>1.0</td>\n",
              "      <td>0</td>\n",
              "      <td>27231.02</td>\n",
              "    </tr>\n",
              "  </tbody>\n",
              "</table>\n",
              "</div>"
            ],
            "text/plain": [
              "        date          open          high  ...  volumeshock  priceshock     price\n",
              "0 2015-01-02  27521.279297  27937.470703  ...          1.0           0  27781.54\n",
              "1 2015-01-05  27978.429688  28064.490234  ...          1.0           0  27897.89\n",
              "2 2015-01-06  27694.230469  27698.929688  ...          0.0           0  27207.82\n",
              "3 2015-01-07  26983.429688  27051.599609  ...          0.0           0  26912.18\n",
              "4 2015-01-08  27178.769531  27316.410156  ...          1.0           0  27231.02\n",
              "\n",
              "[5 rows x 23 columns]"
            ]
          },
          "metadata": {
            "tags": []
          },
          "execution_count": 519
        }
      ]
    },
    {
      "cell_type": "code",
      "metadata": {
        "id": "S5rNTIQu-z5I"
      },
      "source": [
        "#fillinf the null columns\n",
        "bse_data.fillna(method = 'bfill', inplace = True)"
      ],
      "execution_count": 520,
      "outputs": []
    },
    {
      "cell_type": "code",
      "metadata": {
        "id": "ks8ZkIRZ-2ju"
      },
      "source": [
        "#fillinf the null columns\n",
        "bse_data.fillna(method = 'ffill', inplace = True)"
      ],
      "execution_count": 521,
      "outputs": []
    },
    {
      "cell_type": "code",
      "metadata": {
        "colab": {
          "base_uri": "https://localhost:8080/"
        },
        "id": "qY_Kyjbj-4qY",
        "outputId": "9bedb197-95d4-41f5-8c16-627b9a3af449"
      },
      "source": [
        "#finding if any null values are present\n",
        "bse_data.isnull().sum().sum()"
      ],
      "execution_count": 522,
      "outputs": [
        {
          "output_type": "execute_result",
          "data": {
            "text/plain": [
              "0"
            ]
          },
          "metadata": {
            "tags": []
          },
          "execution_count": 522
        }
      ]
    },
    {
      "cell_type": "code",
      "metadata": {
        "id": "LLu13Q2--6On"
      },
      "source": [
        "#selecting specific columns\n",
        "bse_data = bse_data.filter(['month', 'day', 'dayofweek', 'week',\n",
        "       'movingavg4weeks', 'movingavg16weeks', 'movingavg28weeks',\n",
        "       'movingavg40weeks', 'movingavg52weeks', 'window10days', 'window50days',\n",
        "       'volumeshock', 'closeshock2', 'closeshock5', 'closeshock10',\n",
        "       'priceshock',  'polarity', 'subjectivity', 'price', 'close'], axis=1)"
      ],
      "execution_count": 523,
      "outputs": []
    },
    {
      "cell_type": "code",
      "metadata": {
        "colab": {
          "base_uri": "https://localhost:8080/",
          "height": 224
        },
        "id": "lhouQKJZ_FdD",
        "outputId": "48b61597-85fe-441a-a2d6-1c2ac0b10cce"
      },
      "source": [
        "bse_data.head()"
      ],
      "execution_count": 524,
      "outputs": [
        {
          "output_type": "execute_result",
          "data": {
            "text/html": [
              "<div>\n",
              "<style scoped>\n",
              "    .dataframe tbody tr th:only-of-type {\n",
              "        vertical-align: middle;\n",
              "    }\n",
              "\n",
              "    .dataframe tbody tr th {\n",
              "        vertical-align: top;\n",
              "    }\n",
              "\n",
              "    .dataframe thead th {\n",
              "        text-align: right;\n",
              "    }\n",
              "</style>\n",
              "<table border=\"1\" class=\"dataframe\">\n",
              "  <thead>\n",
              "    <tr style=\"text-align: right;\">\n",
              "      <th></th>\n",
              "      <th>month</th>\n",
              "      <th>day</th>\n",
              "      <th>dayofweek</th>\n",
              "      <th>week</th>\n",
              "      <th>movingavg4weeks</th>\n",
              "      <th>movingavg16weeks</th>\n",
              "      <th>movingavg28weeks</th>\n",
              "      <th>movingavg40weeks</th>\n",
              "      <th>movingavg52weeks</th>\n",
              "      <th>window10days</th>\n",
              "      <th>window50days</th>\n",
              "      <th>volumeshock</th>\n",
              "      <th>priceshock</th>\n",
              "      <th>polarity</th>\n",
              "      <th>subjectivity</th>\n",
              "      <th>price</th>\n",
              "      <th>close</th>\n",
              "    </tr>\n",
              "  </thead>\n",
              "  <tbody>\n",
              "    <tr>\n",
              "      <th>0</th>\n",
              "      <td>1</td>\n",
              "      <td>2</td>\n",
              "      <td>4</td>\n",
              "      <td>1</td>\n",
              "      <td>27887.90</td>\n",
              "      <td>27887.90</td>\n",
              "      <td>27887.90</td>\n",
              "      <td>27887.90</td>\n",
              "      <td>27887.90</td>\n",
              "      <td>27887.90</td>\n",
              "      <td>27887.90</td>\n",
              "      <td>1.0</td>\n",
              "      <td>0</td>\n",
              "      <td>0.06</td>\n",
              "      <td>0.46</td>\n",
              "      <td>27781.54</td>\n",
              "      <td>27887.90</td>\n",
              "    </tr>\n",
              "    <tr>\n",
              "      <th>1</th>\n",
              "      <td>1</td>\n",
              "      <td>5</td>\n",
              "      <td>0</td>\n",
              "      <td>2</td>\n",
              "      <td>27887.90</td>\n",
              "      <td>27887.90</td>\n",
              "      <td>27887.90</td>\n",
              "      <td>27887.90</td>\n",
              "      <td>27887.90</td>\n",
              "      <td>27887.90</td>\n",
              "      <td>27887.90</td>\n",
              "      <td>1.0</td>\n",
              "      <td>0</td>\n",
              "      <td>0.10</td>\n",
              "      <td>0.43</td>\n",
              "      <td>27897.89</td>\n",
              "      <td>27842.32</td>\n",
              "    </tr>\n",
              "    <tr>\n",
              "      <th>2</th>\n",
              "      <td>1</td>\n",
              "      <td>6</td>\n",
              "      <td>1</td>\n",
              "      <td>2</td>\n",
              "      <td>27865.11</td>\n",
              "      <td>27865.11</td>\n",
              "      <td>27865.11</td>\n",
              "      <td>27865.11</td>\n",
              "      <td>27865.11</td>\n",
              "      <td>27865.11</td>\n",
              "      <td>27865.11</td>\n",
              "      <td>0.0</td>\n",
              "      <td>0</td>\n",
              "      <td>0.06</td>\n",
              "      <td>0.39</td>\n",
              "      <td>27207.82</td>\n",
              "      <td>26987.46</td>\n",
              "    </tr>\n",
              "    <tr>\n",
              "      <th>3</th>\n",
              "      <td>1</td>\n",
              "      <td>7</td>\n",
              "      <td>2</td>\n",
              "      <td>2</td>\n",
              "      <td>27572.56</td>\n",
              "      <td>27572.56</td>\n",
              "      <td>27572.56</td>\n",
              "      <td>27572.56</td>\n",
              "      <td>27572.56</td>\n",
              "      <td>27572.56</td>\n",
              "      <td>27572.56</td>\n",
              "      <td>0.0</td>\n",
              "      <td>0</td>\n",
              "      <td>0.03</td>\n",
              "      <td>0.39</td>\n",
              "      <td>26912.18</td>\n",
              "      <td>26908.82</td>\n",
              "    </tr>\n",
              "    <tr>\n",
              "      <th>4</th>\n",
              "      <td>1</td>\n",
              "      <td>8</td>\n",
              "      <td>3</td>\n",
              "      <td>2</td>\n",
              "      <td>27406.63</td>\n",
              "      <td>27406.63</td>\n",
              "      <td>27406.63</td>\n",
              "      <td>27406.63</td>\n",
              "      <td>27406.63</td>\n",
              "      <td>27406.63</td>\n",
              "      <td>27406.63</td>\n",
              "      <td>1.0</td>\n",
              "      <td>0</td>\n",
              "      <td>0.06</td>\n",
              "      <td>0.41</td>\n",
              "      <td>27231.02</td>\n",
              "      <td>27274.71</td>\n",
              "    </tr>\n",
              "  </tbody>\n",
              "</table>\n",
              "</div>"
            ],
            "text/plain": [
              "   month  day  dayofweek  week  ...  polarity  subjectivity     price     close\n",
              "0      1    2          4     1  ...      0.06          0.46  27781.54  27887.90\n",
              "1      1    5          0     2  ...      0.10          0.43  27897.89  27842.32\n",
              "2      1    6          1     2  ...      0.06          0.39  27207.82  26987.46\n",
              "3      1    7          2     2  ...      0.03          0.39  26912.18  26908.82\n",
              "4      1    8          3     2  ...      0.06          0.41  27231.02  27274.71\n",
              "\n",
              "[5 rows x 17 columns]"
            ]
          },
          "metadata": {
            "tags": []
          },
          "execution_count": 524
        }
      ]
    },
    {
      "cell_type": "code",
      "metadata": {
        "id": "jvVtJ3ez_JKG"
      },
      "source": [
        "#separating the predicted date row from main dataset after getting all the calculated average values\n",
        "main_bsedata = bse_data.iloc[:1345,:].reset_index()  \n",
        "newtestunseen_bsedata = bse_data.iloc[1345:,:].reset_index()  "
      ],
      "execution_count": 525,
      "outputs": []
    },
    {
      "cell_type": "code",
      "metadata": {
        "colab": {
          "base_uri": "https://localhost:8080/"
        },
        "id": "4WdpEQdT_NJp",
        "outputId": "553a8c02-6d64-4996-8b67-44903b23b52d"
      },
      "source": [
        "main_bsedata.shape"
      ],
      "execution_count": 526,
      "outputs": [
        {
          "output_type": "execute_result",
          "data": {
            "text/plain": [
              "(1345, 18)"
            ]
          },
          "metadata": {
            "tags": []
          },
          "execution_count": 526
        }
      ]
    },
    {
      "cell_type": "code",
      "metadata": {
        "colab": {
          "base_uri": "https://localhost:8080/"
        },
        "id": "ftUSfKoQ_P_q",
        "outputId": "1ab102ae-d020-48e9-9632-0859b04c4310"
      },
      "source": [
        "newtestunseen_bsedata.shape"
      ],
      "execution_count": 527,
      "outputs": [
        {
          "output_type": "execute_result",
          "data": {
            "text/plain": [
              "(257, 18)"
            ]
          },
          "metadata": {
            "tags": []
          },
          "execution_count": 527
        }
      ]
    },
    {
      "cell_type": "code",
      "metadata": {
        "colab": {
          "base_uri": "https://localhost:8080/",
          "height": 224
        },
        "id": "qudxY62j_Tpr",
        "outputId": "9e449272-00f0-4e9a-f7de-08b6f0451a73"
      },
      "source": [
        "newtestunseen_bsedata.head()"
      ],
      "execution_count": 528,
      "outputs": [
        {
          "output_type": "execute_result",
          "data": {
            "text/html": [
              "<div>\n",
              "<style scoped>\n",
              "    .dataframe tbody tr th:only-of-type {\n",
              "        vertical-align: middle;\n",
              "    }\n",
              "\n",
              "    .dataframe tbody tr th {\n",
              "        vertical-align: top;\n",
              "    }\n",
              "\n",
              "    .dataframe thead th {\n",
              "        text-align: right;\n",
              "    }\n",
              "</style>\n",
              "<table border=\"1\" class=\"dataframe\">\n",
              "  <thead>\n",
              "    <tr style=\"text-align: right;\">\n",
              "      <th></th>\n",
              "      <th>index</th>\n",
              "      <th>month</th>\n",
              "      <th>day</th>\n",
              "      <th>dayofweek</th>\n",
              "      <th>week</th>\n",
              "      <th>movingavg4weeks</th>\n",
              "      <th>movingavg16weeks</th>\n",
              "      <th>movingavg28weeks</th>\n",
              "      <th>movingavg40weeks</th>\n",
              "      <th>movingavg52weeks</th>\n",
              "      <th>window10days</th>\n",
              "      <th>window50days</th>\n",
              "      <th>volumeshock</th>\n",
              "      <th>priceshock</th>\n",
              "      <th>polarity</th>\n",
              "      <th>subjectivity</th>\n",
              "      <th>price</th>\n",
              "      <th>close</th>\n",
              "    </tr>\n",
              "  </thead>\n",
              "  <tbody>\n",
              "    <tr>\n",
              "      <th>0</th>\n",
              "      <td>1345</td>\n",
              "      <td>6</td>\n",
              "      <td>30</td>\n",
              "      <td>1</td>\n",
              "      <td>27</td>\n",
              "      <td>34278.20</td>\n",
              "      <td>32331.09</td>\n",
              "      <td>36094.84</td>\n",
              "      <td>36953.09</td>\n",
              "      <td>37293.01</td>\n",
              "      <td>34623.85</td>\n",
              "      <td>32643.94</td>\n",
              "      <td>0.0</td>\n",
              "      <td>0</td>\n",
              "      <td>0.07</td>\n",
              "      <td>0.38</td>\n",
              "      <td>34987.50</td>\n",
              "      <td>34915.80</td>\n",
              "    </tr>\n",
              "    <tr>\n",
              "      <th>1</th>\n",
              "      <td>1346</td>\n",
              "      <td>7</td>\n",
              "      <td>1</td>\n",
              "      <td>2</td>\n",
              "      <td>27</td>\n",
              "      <td>34332.71</td>\n",
              "      <td>32288.82</td>\n",
              "      <td>36053.70</td>\n",
              "      <td>36941.00</td>\n",
              "      <td>37273.13</td>\n",
              "      <td>34754.91</td>\n",
              "      <td>32710.48</td>\n",
              "      <td>0.0</td>\n",
              "      <td>0</td>\n",
              "      <td>0.06</td>\n",
              "      <td>0.36</td>\n",
              "      <td>35269.63</td>\n",
              "      <td>35414.45</td>\n",
              "    </tr>\n",
              "    <tr>\n",
              "      <th>2</th>\n",
              "      <td>1347</td>\n",
              "      <td>7</td>\n",
              "      <td>2</td>\n",
              "      <td>3</td>\n",
              "      <td>27</td>\n",
              "      <td>34397.96</td>\n",
              "      <td>32254.70</td>\n",
              "      <td>36014.87</td>\n",
              "      <td>36935.26</td>\n",
              "      <td>37257.31</td>\n",
              "      <td>34945.57</td>\n",
              "      <td>32785.81</td>\n",
              "      <td>0.0</td>\n",
              "      <td>0</td>\n",
              "      <td>0.04</td>\n",
              "      <td>0.44</td>\n",
              "      <td>35817.99</td>\n",
              "      <td>35843.70</td>\n",
              "    </tr>\n",
              "    <tr>\n",
              "      <th>3</th>\n",
              "      <td>1348</td>\n",
              "      <td>7</td>\n",
              "      <td>3</td>\n",
              "      <td>4</td>\n",
              "      <td>27</td>\n",
              "      <td>34491.11</td>\n",
              "      <td>32219.95</td>\n",
              "      <td>35979.62</td>\n",
              "      <td>36930.86</td>\n",
              "      <td>37242.80</td>\n",
              "      <td>35109.13</td>\n",
              "      <td>32889.95</td>\n",
              "      <td>1.0</td>\n",
              "      <td>0</td>\n",
              "      <td>0.06</td>\n",
              "      <td>0.36</td>\n",
              "      <td>36001.34</td>\n",
              "      <td>36021.42</td>\n",
              "    </tr>\n",
              "    <tr>\n",
              "      <th>4</th>\n",
              "      <td>1349</td>\n",
              "      <td>7</td>\n",
              "      <td>6</td>\n",
              "      <td>0</td>\n",
              "      <td>28</td>\n",
              "      <td>34577.81</td>\n",
              "      <td>32190.10</td>\n",
              "      <td>35948.02</td>\n",
              "      <td>36927.74</td>\n",
              "      <td>37228.32</td>\n",
              "      <td>35238.10</td>\n",
              "      <td>32982.78</td>\n",
              "      <td>0.0</td>\n",
              "      <td>0</td>\n",
              "      <td>0.04</td>\n",
              "      <td>0.41</td>\n",
              "      <td>36467.65</td>\n",
              "      <td>36487.28</td>\n",
              "    </tr>\n",
              "  </tbody>\n",
              "</table>\n",
              "</div>"
            ],
            "text/plain": [
              "   index  month  day  dayofweek  ...  polarity  subjectivity     price     close\n",
              "0   1345      6   30          1  ...      0.07          0.38  34987.50  34915.80\n",
              "1   1346      7    1          2  ...      0.06          0.36  35269.63  35414.45\n",
              "2   1347      7    2          3  ...      0.04          0.44  35817.99  35843.70\n",
              "3   1348      7    3          4  ...      0.06          0.36  36001.34  36021.42\n",
              "4   1349      7    6          0  ...      0.04          0.41  36467.65  36487.28\n",
              "\n",
              "[5 rows x 18 columns]"
            ]
          },
          "metadata": {
            "tags": []
          },
          "execution_count": 528
        }
      ]
    },
    {
      "cell_type": "markdown",
      "metadata": {
        "id": "Yk5YiSOC_Zk7"
      },
      "source": [
        "# ***Training the model and predicting the price***"
      ]
    },
    {
      "cell_type": "code",
      "metadata": {
        "id": "TYBaakqb_V3O"
      },
      "source": [
        "X = main_bsedata.drop(['price','close'], axis = 1)\n",
        "y = main_bsedata[['price','close']]"
      ],
      "execution_count": 529,
      "outputs": []
    },
    {
      "cell_type": "code",
      "metadata": {
        "id": "_xEHggW8_gry"
      },
      "source": [
        "Xnewtestunseen = newtestunseen_bsedata.drop(['price','close'], axis = 1)\n",
        "ynewtestunseen_ans = newtestunseen_bsedata[['price','close']]"
      ],
      "execution_count": 530,
      "outputs": []
    },
    {
      "cell_type": "code",
      "metadata": {
        "colab": {
          "base_uri": "https://localhost:8080/"
        },
        "id": "_8dRIFvd_jWt",
        "outputId": "cc58b45f-8b42-42b5-8c91-3892365f169f"
      },
      "source": [
        "X.shape, y.shape"
      ],
      "execution_count": 531,
      "outputs": [
        {
          "output_type": "execute_result",
          "data": {
            "text/plain": [
              "((1345, 16), (1345, 2))"
            ]
          },
          "metadata": {
            "tags": []
          },
          "execution_count": 531
        }
      ]
    },
    {
      "cell_type": "code",
      "metadata": {
        "id": "V2xZPSiB_lDo"
      },
      "source": [
        "split = ShuffleSplit(n_splits=10, test_size=0.2, random_state=42)\n",
        "for train_index, test_index in split.split(X, y):\n",
        "  X_train, X_test = X.iloc[train_index], X.iloc[test_index]\n",
        "  y_train, y_test = y.iloc[train_index], y.iloc[test_index]"
      ],
      "execution_count": 532,
      "outputs": []
    },
    {
      "cell_type": "code",
      "metadata": {
        "colab": {
          "base_uri": "https://localhost:8080/"
        },
        "id": "mN7PW1SX_oXy",
        "outputId": "f6cbca51-020d-486e-c99a-a304b64633c9"
      },
      "source": [
        " X_train.shape, y_train.shape, X_test.shape, y_test.shape"
      ],
      "execution_count": 533,
      "outputs": [
        {
          "output_type": "execute_result",
          "data": {
            "text/plain": [
              "((1076, 16), (1076, 2), (269, 16), (269, 2))"
            ]
          },
          "metadata": {
            "tags": []
          },
          "execution_count": 533
        }
      ]
    },
    {
      "cell_type": "code",
      "metadata": {
        "id": "kteuOOUy_rI1"
      },
      "source": [
        "rfg = RandomForestRegressor(random_state = 42, n_estimators = 500, criterion='mse', max_depth = 30, min_samples_leaf=2, min_samples_split=5, n_jobs=1)"
      ],
      "execution_count": 534,
      "outputs": []
    },
    {
      "cell_type": "code",
      "metadata": {
        "colab": {
          "base_uri": "https://localhost:8080/"
        },
        "id": "8lPeX2rF_wE4",
        "outputId": "3d1db005-63c9-4d7a-f30a-7e8d9244ac1e"
      },
      "source": [
        "chainedmodel = RegressorChain(rfg)\n",
        "chainedmodel.fit(X_train, y_train)"
      ],
      "execution_count": 535,
      "outputs": [
        {
          "output_type": "execute_result",
          "data": {
            "text/plain": [
              "RegressorChain(base_estimator=RandomForestRegressor(bootstrap=True,\n",
              "                                                    ccp_alpha=0.0,\n",
              "                                                    criterion='mse',\n",
              "                                                    max_depth=30,\n",
              "                                                    max_features='auto',\n",
              "                                                    max_leaf_nodes=None,\n",
              "                                                    max_samples=None,\n",
              "                                                    min_impurity_decrease=0.0,\n",
              "                                                    min_impurity_split=None,\n",
              "                                                    min_samples_leaf=2,\n",
              "                                                    min_samples_split=5,\n",
              "                                                    min_weight_fraction_leaf=0.0,\n",
              "                                                    n_estimators=500, n_jobs=1,\n",
              "                                                    oob_score=False,\n",
              "                                                    random_state=42, verbose=0,\n",
              "                                                    warm_start=False),\n",
              "               cv=None, order=None, random_state=None)"
            ]
          },
          "metadata": {
            "tags": []
          },
          "execution_count": 535
        }
      ]
    },
    {
      "cell_type": "code",
      "metadata": {
        "id": "uOT77o0X_yd-"
      },
      "source": [
        "pred = chainedmodel.predict(X_test)\n",
        "roundpred = []\n",
        "for x in range(len(pred)):\n",
        "  roundpred.append([round(pred[x][0], 2),round(pred[x][1], 2) ])"
      ],
      "execution_count": 536,
      "outputs": []
    },
    {
      "cell_type": "code",
      "metadata": {
        "colab": {
          "base_uri": "https://localhost:8080/"
        },
        "id": "Zw18N2Az_20u",
        "outputId": "6e5674cd-b4d7-4f36-b6ba-3ce38e2e47ac"
      },
      "source": [
        "r2_score(y_test, roundpred)"
      ],
      "execution_count": 537,
      "outputs": [
        {
          "output_type": "execute_result",
          "data": {
            "text/plain": [
              "0.9946241854491651"
            ]
          },
          "metadata": {
            "tags": []
          },
          "execution_count": 537
        }
      ]
    },
    {
      "cell_type": "code",
      "metadata": {
        "colab": {
          "base_uri": "https://localhost:8080/"
        },
        "id": "kQVarUXs_40S",
        "outputId": "37cb42f4-17dd-4dcf-e467-65faa8658310"
      },
      "source": [
        "#evaluating the performance of the model\n",
        "#MAE\n",
        "print('MAE')\n",
        "print(mean_absolute_error(y_test, roundpred), end='\\n')\n",
        "#MSE\n",
        "print('MSE')\n",
        "print(mean_squared_error(y_test, roundpred), end='\\n')\n",
        "#RMSE\n",
        "print('RMSE')\n",
        "print(np.sqrt(mean_squared_error(y_test, roundpred)))"
      ],
      "execution_count": 538,
      "outputs": [
        {
          "output_type": "stream",
          "text": [
            "MAE\n",
            "255.72842007434934\n",
            "MSE\n",
            "130290.57194219332\n",
            "RMSE\n",
            "360.9578534153168\n"
          ],
          "name": "stdout"
        }
      ]
    },
    {
      "cell_type": "code",
      "metadata": {
        "id": "7kHNRKrPAASd"
      },
      "source": [
        "pred_newtestunseen = chainedmodel.predict(Xnewtestunseen)"
      ],
      "execution_count": 539,
      "outputs": []
    },
    {
      "cell_type": "code",
      "metadata": {
        "colab": {
          "base_uri": "https://localhost:8080/"
        },
        "id": "W0uFqy3xAD76",
        "outputId": "90177d29-6614-4c72-af95-0b68dae63721"
      },
      "source": [
        "[(round(pred_newtestunseen[0][0], 2)),(round(pred_newtestunseen[0][1], 2))]"
      ],
      "execution_count": 540,
      "outputs": [
        {
          "output_type": "execute_result",
          "data": {
            "text/plain": [
              "[35080.88, 35028.02]"
            ]
          },
          "metadata": {
            "tags": []
          },
          "execution_count": 540
        }
      ]
    },
    {
      "cell_type": "code",
      "metadata": {
        "colab": {
          "base_uri": "https://localhost:8080/",
          "height": 419
        },
        "id": "r4VsCXVIAFqe",
        "outputId": "fe62223b-96a4-47ee-d364-30c6196a3f37"
      },
      "source": [
        "ynewtestunseen_ans"
      ],
      "execution_count": 541,
      "outputs": [
        {
          "output_type": "execute_result",
          "data": {
            "text/html": [
              "<div>\n",
              "<style scoped>\n",
              "    .dataframe tbody tr th:only-of-type {\n",
              "        vertical-align: middle;\n",
              "    }\n",
              "\n",
              "    .dataframe tbody tr th {\n",
              "        vertical-align: top;\n",
              "    }\n",
              "\n",
              "    .dataframe thead th {\n",
              "        text-align: right;\n",
              "    }\n",
              "</style>\n",
              "<table border=\"1\" class=\"dataframe\">\n",
              "  <thead>\n",
              "    <tr style=\"text-align: right;\">\n",
              "      <th></th>\n",
              "      <th>price</th>\n",
              "      <th>close</th>\n",
              "    </tr>\n",
              "  </thead>\n",
              "  <tbody>\n",
              "    <tr>\n",
              "      <th>0</th>\n",
              "      <td>34987.50</td>\n",
              "      <td>34915.80</td>\n",
              "    </tr>\n",
              "    <tr>\n",
              "      <th>1</th>\n",
              "      <td>35269.63</td>\n",
              "      <td>35414.45</td>\n",
              "    </tr>\n",
              "    <tr>\n",
              "      <th>2</th>\n",
              "      <td>35817.99</td>\n",
              "      <td>35843.70</td>\n",
              "    </tr>\n",
              "    <tr>\n",
              "      <th>3</th>\n",
              "      <td>36001.34</td>\n",
              "      <td>36021.42</td>\n",
              "    </tr>\n",
              "    <tr>\n",
              "      <th>4</th>\n",
              "      <td>36467.65</td>\n",
              "      <td>36487.28</td>\n",
              "    </tr>\n",
              "    <tr>\n",
              "      <th>...</th>\n",
              "      <td>...</td>\n",
              "      <td>...</td>\n",
              "    </tr>\n",
              "    <tr>\n",
              "      <th>252</th>\n",
              "      <td>52931.58</td>\n",
              "      <td>52861.18</td>\n",
              "    </tr>\n",
              "    <tr>\n",
              "      <th>253</th>\n",
              "      <td>52970.64</td>\n",
              "      <td>53054.76</td>\n",
              "    </tr>\n",
              "    <tr>\n",
              "      <th>254</th>\n",
              "      <td>52700.27</td>\n",
              "      <td>52568.94</td>\n",
              "    </tr>\n",
              "    <tr>\n",
              "      <th>255</th>\n",
              "      <td>52389.98</td>\n",
              "      <td>52386.19</td>\n",
              "    </tr>\n",
              "    <tr>\n",
              "      <th>256</th>\n",
              "      <td>34119.43</td>\n",
              "      <td>34115.86</td>\n",
              "    </tr>\n",
              "  </tbody>\n",
              "</table>\n",
              "<p>257 rows × 2 columns</p>\n",
              "</div>"
            ],
            "text/plain": [
              "        price     close\n",
              "0    34987.50  34915.80\n",
              "1    35269.63  35414.45\n",
              "2    35817.99  35843.70\n",
              "3    36001.34  36021.42\n",
              "4    36467.65  36487.28\n",
              "..        ...       ...\n",
              "252  52931.58  52861.18\n",
              "253  52970.64  53054.76\n",
              "254  52700.27  52568.94\n",
              "255  52389.98  52386.19\n",
              "256  34119.43  34115.86\n",
              "\n",
              "[257 rows x 2 columns]"
            ]
          },
          "metadata": {
            "tags": []
          },
          "execution_count": 541
        }
      ]
    },
    {
      "cell_type": "code",
      "metadata": {
        "colab": {
          "base_uri": "https://localhost:8080/"
        },
        "id": "vPSEHYIVAJK9",
        "outputId": "9377e85d-b3c8-442a-98dc-973c4206f1d9"
      },
      "source": [
        "[unseenbsedata_price[0] , round(unseenbse_data['close'],2)[0]] "
      ],
      "execution_count": 542,
      "outputs": [
        {
          "output_type": "execute_result",
          "data": {
            "text/plain": [
              "[52389.98, 52386.19]"
            ]
          },
          "metadata": {
            "tags": []
          },
          "execution_count": 542
        }
      ]
    },
    {
      "cell_type": "markdown",
      "metadata": {
        "id": "4ktsXkxHAQDl"
      },
      "source": [
        "# **Thank You Sparks Foundation !**"
      ]
    }
  ]
}